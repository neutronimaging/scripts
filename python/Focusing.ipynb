{
 "cells": [
  {
   "cell_type": "markdown",
   "metadata": {},
   "source": [
    "# Find focus"
   ]
  },
  {
   "cell_type": "markdown",
   "metadata": {},
   "source": [
    "## Load some modules"
   ]
  },
  {
   "cell_type": "code",
   "execution_count": null,
   "metadata": {},
   "outputs": [],
   "source": [
    "import numpy as np\n",
    "import matplotlib.pyplot as plt\n",
    "import astropy.io.fits as fits\n",
    "import skimage.filters as flt\n",
    "import scipy.stats as stats"
   ]
  },
  {
   "cell_type": "markdown",
   "metadata": {},
   "source": [
    "## Read a focus series"
   ]
  },
  {
   "cell_type": "code",
   "execution_count": null,
   "metadata": {},
   "outputs": [],
   "source": [
    "tmp = fits.getdata(\"/data/P20201428/02_rawdata/00_focus/start3500/focus_start3500_step10_00001.fits\").astype(float)\n",
    "\n",
    "img = np.zeros([21,tmp.shape[0],tmp.shape[1]])\n",
    "img[0]=tmp\n",
    "for idx in range(1,21) :\n",
    "    img[idx]=tmp = fits.getdata(\"/data/P20201428/02_rawdata/00_focus/start3500/focus_start3500_step10_{0:05}.fits\".format(idx)).astype(float)\n"
   ]
  },
  {
   "cell_type": "code",
   "execution_count": null,
   "metadata": {},
   "outputs": [],
   "source": [
    "fig,ax = plt.subplots(3,7,figsize=(15,9))\n",
    "ax = ax.ravel()\n",
    "\n",
    "for idx in range(21) :\n",
    "    ax[idx].imshow(img[idx],vmin=300,vmax=2000)"
   ]
  },
  {
   "cell_type": "markdown",
   "metadata": {},
   "source": [
    "## Compute focus metrics"
   ]
  },
  {
   "cell_type": "code",
   "execution_count": null,
   "metadata": {},
   "outputs": [],
   "source": [
    "def entropy(x, N=100) :\n",
    "    h,a = np.histogram(x.ravel(),bins=N)\n",
    "    h = h[0<h]\n",
    "    p=h/h.sum()\n",
    "    \n",
    "    e = -(p * np.log(p)).sum()\n",
    "    \n",
    "    return e"
   ]
  },
  {
   "cell_type": "code",
   "execution_count": null,
   "metadata": {},
   "outputs": [],
   "source": [
    "#roi = [0,200,250,400]\n",
    "roi = [900,900,1100,1100]\n",
    "s = []\n",
    "e = []\n",
    "for idx in range(img.shape[0]) :\n",
    "    subimg = img[idx,roi[0]:roi[2],roi[1]:roi[3]]\n",
    "    res = flt.median(subimg)\n",
    "   # res = img[idx,roi[0]:roi[2],roi[1]:roi[3]]\n",
    "    s.append(res.std())\n",
    "    e.append(entropy(subimg.ravel(),200))"
   ]
  },
  {
   "cell_type": "code",
   "execution_count": null,
   "metadata": {},
   "outputs": [],
   "source": [
    "fig,ax = plt.subplots(1,2,figsize=(12,6))\n",
    "ax[0].plot(np.linspace(3500,10*img.shape[0]+3500,img.shape[0]),s)\n",
    "ax[1].plot(np.linspace(3500,10*img.shape[0]+3500,img.shape[0]),e)"
   ]
  },
  {
   "cell_type": "code",
   "execution_count": null,
   "metadata": {},
   "outputs": [],
   "source": [
    "plt.imshow(img[np.argmax(s)],vmin=300,vmax=2000)"
   ]
  },
  {
   "cell_type": "markdown",
   "metadata": {},
   "source": [
    "## Fourier ring correlation"
   ]
  },
  {
   "cell_type": "code",
   "execution_count": null,
   "metadata": {},
   "outputs": [],
   "source": [
    "# -*- coding: utf-8 -*-\n",
    "\"\"\"\n",
    "Created on Mon Jul 17 10:08:28 2017\n",
    "@author: sajid\n",
    "Based on the MATLAB code by Michael Wojcik\n",
    "\"\"\"\n",
    "\n",
    "#importing required libraries\n",
    "import numpy as np \n",
    "\n",
    "\n",
    "def spinavej(x):\n",
    "    '''\n",
    "    read the shape and dimensions of the input image\n",
    "    '''\n",
    "    shape = np.shape(x)     \n",
    "    dim = np.size(shape)\n",
    "    '''\n",
    "    Depending on the dimension of the image 2D/3D, create an array of integers \n",
    "    which increase with distance from the center of the array\n",
    "    '''\n",
    "    if dim == 2 :\n",
    "        nr,nc = shape\n",
    "        nrdc = np.floor(nr/2)+1\n",
    "        ncdc = np.floor(nc/2)+1\n",
    "        r = np.arange(nr)-nrdc + 1\n",
    "        c = np.arange(nc)-ncdc + 1 \n",
    "        [R,C] = np.meshgrid(r,c)\n",
    "        index = np.round(np.sqrt(R**2+C**2))+1    \n",
    "    \n",
    "    elif dim == 3 :\n",
    "        nr,nc,nz = shape\n",
    "        nrdc = np.floor(nr/2)+1\n",
    "        ncdc = np.floor(nc/2)+1\n",
    "        nzdc = np.floor(nz/2)+1\n",
    "        r = np.arange(nr)-nrdc + 1\n",
    "        c = np.arange(nc)-ncdc + 1 \n",
    "        z = np.arange(nc)-nzdc + 1 \n",
    "        [R,C,Z] = np.meshgrid(r,c,z)\n",
    "        index = np.round(np.sqrt(R**2+C**2+Z**2))+1    \n",
    "    else :\n",
    "        print('input is neither a 2d or 3d array')\n",
    "    '''\n",
    "    The index array has integers from 1 to maxindex arranged according to distance\n",
    "    from the center\n",
    "    '''\n",
    "    maxindex = np.max(index)\n",
    "    output = np.zeros(int(maxindex),dtype = complex)\n",
    "\n",
    "    '''\n",
    "    In the next step the output is generated. The output is an array of length\n",
    "    maxindex. The elements in this array corresponds to the sum of all the elements\n",
    "    in the original array correponding to the integer position of the output array \n",
    "    divided by the number of elements in the index array with the same value as the\n",
    "    integer position. \n",
    "    \n",
    "    Depening on the size of the input array, use either the pixel or index method.\n",
    "    By-pixel method for large arrays and by-index method for smaller ones.\n",
    "    '''\n",
    "    if  nr >= 512:\n",
    "        print('performed by pixel method')\n",
    "        sumf = np.zeros(int(maxindex),dtype = complex)\n",
    "        count = np.zeros(int(maxindex),dtype = complex )\n",
    "        for ri in range(nr):\n",
    "            for ci in range(nc):\n",
    "                sumf[int(index[ri,ci])-1] = sumf[int(index[ri,ci])-1] + x[ri,ci]\n",
    "                count[int(index[ri,ci])-1] = count[int(index[ri,ci])-1] + 1 \n",
    "        output = sumf/count\n",
    "        return output\n",
    "    else :\n",
    "        print('performed by index method')\n",
    "        indices = []\n",
    "        for i in np.arange(int(maxindex)):\n",
    "            indices.append(np.where(index == i+1))\n",
    "        for i in np.arange(int(maxindex)):\n",
    "            output[i] = sum(x[indices[i]])/len(indices[i][0])\n",
    "        return output"
   ]
  },
  {
   "cell_type": "code",
   "execution_count": null,
   "metadata": {},
   "outputs": [],
   "source": [
    "# -*- coding: utf-8 -*-\n",
    "\"\"\"\n",
    "Created on Mon Jul 17 12:54:20 2017\n",
    "@author: sajid\n",
    "Based on the MATLAB code by Michael Wojcik\n",
    "M. van Heela, and M. Schatzb, \"Fourier shell correlation threshold\n",
    "criteria,\" Journal of Structural Biology 151, 250-262 (2005)\n",
    "\"\"\"\n",
    "\n",
    "#importing required libraries\n",
    "\n",
    "import numpy as np\n",
    "import numpy.fft as fft\n",
    "import matplotlib.pyplot as plt\n",
    "\n",
    "def FSC(i1,i2,disp=0,SNRt=0.1):\n",
    "    '''\n",
    "    Check whether the inputs dimensions match and the images are square\n",
    "    '''\n",
    "    if ( np.shape(i1) != np.shape(i2) ) :\n",
    "        print('input images must have the same dimensions')\n",
    "    if ( np.shape(i1)[0] != np.shape(i1)[1]) :\n",
    "        print('input images must be squares')\n",
    "    I1 = fft.fftshift(fft.fft2(i1))\n",
    "    I2 = fft.fftshift(fft.fft2(i2))\n",
    "    '''\n",
    "    I1 and I2 store the DFT of the images to be used in the calcuation for the FSC\n",
    "    '''\n",
    "    C  = spinavej(np.multiply(I1,np.conj(I2)))\n",
    "    C1 = spinavej(np.multiply(I1,np.conj(I1)))\n",
    "    C2 = spinavej(np.multiply(I2,np.conj(I2)))\n",
    "    \n",
    "    FSC = abs(C)/np.sqrt(abs(np.multiply(C1,C2)))\n",
    "    \n",
    "    '''\n",
    "    T is the SNR threshold calculated accoring to the input SNRt, if nothing is given\n",
    "    a default value of 0.1 is used.\n",
    "    \n",
    "    x2 contains the normalized spatial frequencies\n",
    "    '''\n",
    "    r = np.arange(1+np.shape(i1)[0]/2)\n",
    "    n = 2*np.pi*r\n",
    "    n[0] = 1\n",
    "    eps = np.finfo(float).eps\n",
    "    t1 = np.divide(np.ones(np.shape(n)),n+eps)\n",
    "    t2 = SNRt + 2*np.sqrt(SNRt)*t1 + np.divide(np.ones(np.shape(n)),np.sqrt(n))\n",
    "    t3 = SNRt + 2*np.sqrt(SNRt)*t1 + 1\n",
    "    T = np.divide(t2,t3)\n",
    "    x1 = np.arange(np.shape(C)[0])/(np.shape(i1)[0]/2)\n",
    "    x2 = r/(np.shape(i1)[0]/2)    \n",
    "    '''\n",
    "    If the disp input is set to 1, an output plot is generated. \n",
    "    '''\n",
    "    if disp != 0 :\n",
    "        plt.plot(x1,FSC,label = 'FSC')\n",
    "        plt.plot(x2,T,'--',label = 'Threshold SNR = '+str(SNRt))\n",
    "        plt.xlim(0,1)\n",
    "        plt.legend()\n",
    "        plt.xlabel('Spatial Frequency/Nyquist')\n",
    "        plt.show()\n"
   ]
  },
  {
   "cell_type": "code",
   "execution_count": null,
   "metadata": {},
   "outputs": [],
   "source": [
    "FSC(img[0,roi[0]:roi[2],roi[1]:roi[3]],img[1,roi[0]:roi[2],roi[1]:roi[3]],disp=1)"
   ]
  },
  {
   "cell_type": "code",
   "execution_count": null,
   "metadata": {},
   "outputs": [],
   "source": [
    "FSC(img[13,roi[0]:roi[2],roi[1]:roi[3]],img[12,roi[0]:roi[2],roi[1]:roi[3]],disp=1)"
   ]
  },
  {
   "cell_type": "code",
   "execution_count": null,
   "metadata": {},
   "outputs": [],
   "source": []
  },
  {
   "cell_type": "code",
   "execution_count": null,
   "metadata": {},
   "outputs": [],
   "source": []
  }
 ],
 "metadata": {
  "hide_input": false,
  "kernelspec": {
   "display_name": "Python 3",
   "language": "python",
   "name": "python3"
  },
  "language_info": {
   "codemirror_mode": {
    "name": "ipython",
    "version": 3
   },
   "file_extension": ".py",
   "mimetype": "text/x-python",
   "name": "python",
   "nbconvert_exporter": "python",
   "pygments_lexer": "ipython3",
   "version": "3.7.6"
  }
 },
 "nbformat": 4,
 "nbformat_minor": 4
}
