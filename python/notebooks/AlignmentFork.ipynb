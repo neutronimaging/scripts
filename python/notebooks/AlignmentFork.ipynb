{
 "cells": [
  {
   "cell_type": "code",
   "execution_count": null,
   "metadata": {},
   "outputs": [],
   "source": [
    "import numpy as np\n",
    "import matplotlib.pyplot as plt\n",
    "import skimage.filters as flt\n",
    "import skimage.io as io\n",
    "import skimage.transform as transform"
   ]
  },
  {
   "cell_type": "code",
   "execution_count": null,
   "metadata": {},
   "outputs": [],
   "source": [
    "img = io.imread('../../../TestData/2D/png/fork.png')[50:100,:,0]/255.0\n",
    "plt.imshow(img)\n"
   ]
  },
  {
   "cell_type": "code",
   "execution_count": null,
   "metadata": {},
   "outputs": [],
   "source": [
    "thickness = 0.2 # mm\n",
    "sigma = 2.5\n",
    "img = np.exp(-img*thickness*sigma)"
   ]
  },
  {
   "cell_type": "code",
   "execution_count": null,
   "metadata": {},
   "outputs": [],
   "source": [
    "plt.imshow(img)\n",
    "plt.colorbar()"
   ]
  },
  {
   "cell_type": "code",
   "execution_count": null,
   "metadata": {},
   "outputs": [],
   "source": [
    "plt.imshow(flt.sobel(img))"
   ]
  },
  {
   "cell_type": "code",
   "execution_count": null,
   "metadata": {},
   "outputs": [],
   "source": [
    "simg=flt.sobel(img)\n",
    "plt.figure(figsize=[10,12])\n",
    "plt.imshow(0<simg)"
   ]
  },
  {
   "cell_type": "markdown",
   "metadata": {},
   "source": [
    "# Line angles through line fits\n",
    "Create segmented lines"
   ]
  },
  {
   "cell_type": "code",
   "execution_count": null,
   "metadata": {},
   "outputs": [],
   "source": [
    "from skimage.measure import label, regionprops"
   ]
  },
  {
   "cell_type": "code",
   "execution_count": null,
   "metadata": {},
   "outputs": [],
   "source": [
    "simg=flt.sobel(img)\n",
    "plt.figure(figsize=[10,12])\n",
    "bimg=0<simg\n",
    "limg=label(bimg)\n",
    "plt.imshow(limg)"
   ]
  },
  {
   "cell_type": "code",
   "execution_count": null,
   "metadata": {},
   "outputs": [],
   "source": [
    "def lineAngle(img,lbl) :\n",
    "    pos=np.argwhere(img==lbl)\n",
    "    A = np.vstack([pos[:,0], np.ones(pos.shape[0])]).T\n",
    "    y=pos[:,1]\n",
    "    c,m = np.linalg.lstsq(A,y)[0]\n",
    "    return np.arctan(c)/np.pi*180"
   ]
  },
  {
   "cell_type": "code",
   "execution_count": null,
   "metadata": {},
   "outputs": [],
   "source": [
    "for i in np.arange(1,5) :\n",
    "    print(lineAngle(limg,i))"
   ]
  },
  {
   "cell_type": "markdown",
   "metadata": {},
   "source": [
    "## Tilted axis test"
   ]
  },
  {
   "cell_type": "code",
   "execution_count": null,
   "metadata": {},
   "outputs": [],
   "source": [
    "a = transform.rotate(simg,5.0)[20:80,:]\n",
    "la = label(0<a)\n",
    "b = a[:,-1::-1]\n",
    "lb = label(0<b)\n",
    "fig,ax = plt.subplots(1,2,figsize = (12,5))\n",
    "ax[0].imshow(la)\n",
    "ax[1].imshow(lb)\n"
   ]
  },
  {
   "cell_type": "code",
   "execution_count": null,
   "metadata": {},
   "outputs": [],
   "source": [
    "sa = []\n",
    "for i in np.arange(1,5) :\n",
    "    sa.append(lineAngle(la,i))\n",
    "    \n",
    "sb = []\n",
    "for i in np.arange(1,5) :\n",
    "    sb.append(lineAngle(lb,i))\n"
   ]
  },
  {
   "cell_type": "code",
   "execution_count": null,
   "metadata": {},
   "outputs": [],
   "source": []
  },
  {
   "cell_type": "code",
   "execution_count": null,
   "metadata": {},
   "outputs": [],
   "source": [
    "plt.plot(sa,sb[-1::-1],\"+\")"
   ]
  },
  {
   "cell_type": "code",
   "execution_count": null,
   "metadata": {},
   "outputs": [],
   "source": []
  }
 ],
 "metadata": {
  "kernelspec": {
   "display_name": "Python 3 (ipykernel)",
   "language": "python",
   "name": "python3"
  },
  "language_info": {
   "codemirror_mode": {
    "name": "ipython",
    "version": 3
   },
   "file_extension": ".py",
   "mimetype": "text/x-python",
   "name": "python",
   "nbconvert_exporter": "python",
   "pygments_lexer": "ipython3",
   "version": "3.9.7"
  }
 },
 "nbformat": 4,
 "nbformat_minor": 4
}
