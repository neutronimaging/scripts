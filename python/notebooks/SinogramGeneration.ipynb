{
 "cells": [
  {
   "cell_type": "code",
   "execution_count": 1,
   "metadata": {},
   "outputs": [],
   "source": [
    "import matplotlib.pyplot as plt\n",
    "import numpy as np\n",
    "import astropy.io.fits as fits"
   ]
  },
  {
   "cell_type": "code",
   "execution_count": 2,
   "metadata": {},
   "outputs": [],
   "source": [
    "def goldenSequence(N) :\n",
    "    phi = 0.5*(1+np.sqrt(5))\n",
    "    x = range(N)\n",
    "    return np.mod(x*phi*180,180)"
   ]
  },
  {
   "cell_type": "code",
   "execution_count": 3,
   "metadata": {},
   "outputs": [
    {
     "data": {
      "text/plain": [
       "array([  0.        , 111.24611797,  42.49223595, 153.73835392,\n",
       "        84.9844719 ,  16.23058987, 127.47670785,  58.72282582,\n",
       "       169.9689438 , 101.21506177])"
      ]
     },
     "execution_count": 3,
     "metadata": {},
     "output_type": "execute_result"
    }
   ],
   "source": [
    "goldenSequence(10)"
   ]
  },
  {
   "cell_type": "code",
   "execution_count": 40,
   "metadata": {},
   "outputs": [],
   "source": [
    "def readImage(fname,first,last,mean = False) :\n",
    "    tmp = fits.getdata(fname.format(first),ext=0)\n",
    "    img = np.zeros([last-first+1,tmp.shape[0],tmp.shape[1]])\n",
    "    img[0]=tmp.astype(float)\n",
    "    \n",
    "    for idx in np.arange(first+1,last) :\n",
    "        img[idx-first]=fits.getdata(fname.format(idx+1),ext=0).astype(float)\n",
    "    if mean :\n",
    "        img = img.mean(axis=0)\n",
    "        \n",
    "    return img"
   ]
  },
  {
   "cell_type": "code",
   "execution_count": 41,
   "metadata": {},
   "outputs": [],
   "source": [
    "def getSinograms(fmask,N,lines,stride=1, counts=1 ) :\n",
    "    img = fits.getdata(fmask.format(1),ext=0)\n",
    "    sino = np.zeros([len(lines),N,img.shape[1]])\n",
    "    \n",
    "    angles   = goldenSequence(N)\n",
    "    angleIdx = np.argsort(angles)\n",
    "    \n",
    "    for idx in range(len(angleIdx)) :\n",
    "        for count in range(counts) :\n",
    "            fileIdx = 1 + angleIdx[idx]*stride + count\n",
    "            img = fits.getdata(fmask.format(fileIdx),ext=0)\n",
    "            # Normalize (Img-dc)/(ob-dc)*D0/D\n",
    "            for lineIdx,line in enumerate(lines) :\n",
    "                sino[lineIdx,idx] = sino[lineIdx,idx] + img[lineIdx]\n",
    "                \n",
    "    sino = sino / counts\n",
    "    \n",
    "    angles = angles[angleIdx]\n",
    "    \n",
    "    return sino,angles\n",
    "    "
   ]
  },
  {
   "cell_type": "code",
   "execution_count": 42,
   "metadata": {},
   "outputs": [],
   "source": [
    "s,angles = getSinograms('../02_rawdata/01_CTscan/bitumenCT_{0:05}.fits',N=500,lines=[100,200],stride=5,counts=1)"
   ]
  },
  {
   "cell_type": "code",
   "execution_count": 43,
   "metadata": {},
   "outputs": [
    {
     "data": {
      "text/plain": [
       "array([  0.        ,   0.34548817,   0.69097634,   0.90449977,\n",
       "         1.24998794,   1.80899955,   2.15448772,   2.36801115,\n",
       "         2.71349932,   3.27251092,   3.61799909,   4.1770107 ,\n",
       "         4.52249887,   4.7360223 ,   5.08151047,   5.64052207,\n",
       "         5.98601024,   6.19953367,   6.54502185,   6.89051002,\n",
       "         7.10403345,   7.44952162,   8.00853322,   8.35402139,\n",
       "         8.56754482,   8.91303299,   9.4720446 ,   9.81753277,\n",
       "        10.37654437,  10.72203254,  10.93555597,  11.28104414,\n",
       "        11.84005575,  12.18554392,  12.39906735,  12.74455552,\n",
       "        13.09004369,  13.30356712,  13.64905529,  14.2080669 ,\n",
       "        14.55355507,  14.7670785 ,  15.11256667,  15.67157827,\n",
       "        16.01706644,  16.23058987,  16.57607805,  16.92156622,\n",
       "        17.13508965,  17.48057782,  18.03958942,  18.38507759,\n",
       "        18.59860102,  18.94408919,  19.5031008 ,  19.84858897,\n",
       "        20.40760057,  20.75308874,  20.96661217,  21.31210034,\n",
       "        21.87111195,  22.21660012,  22.43012355,  22.77561172,\n",
       "        23.12109989,  23.33462332,  23.68011149,  24.2391231 ,\n",
       "        24.58461127,  24.7981347 ,  25.14362287,  25.70263447,\n",
       "        26.04812264,  26.60713425,  26.95262242,  27.16614585,\n",
       "        27.51163402,  28.07064562,  28.41613379,  28.62965722,\n",
       "        28.9751454 ,  29.32063357,  29.534157  ,  29.87964517,\n",
       "        30.43865677,  30.78414494,  30.99766837,  31.34315654,\n",
       "        31.90216815,  32.24765632,  32.46117975,  32.80666792,\n",
       "        33.15215609,  33.36567952,  33.71116769,  34.2701793 ,\n",
       "        34.61566747,  34.8291909 ,  35.17467907,  35.73369067,\n",
       "        36.07917884,  36.63819045,  36.98367862,  37.19720205,\n",
       "        37.54269022,  38.10170182,  38.44718999,  38.66071342,\n",
       "        39.0062016 ,  39.35168977,  39.5652132 ,  39.91070137,\n",
       "        40.46971297,  40.81520114,  41.02872457,  41.37421274,\n",
       "        41.93322435,  42.27871252,  42.49223595,  42.83772412,\n",
       "        43.18321229,  43.39673572,  43.74222389,  44.3012355 ,\n",
       "        44.64672367,  44.8602471 ,  45.20573527,  45.76474687,\n",
       "        46.11023504,  46.66924665,  47.01473482,  47.22825825,\n",
       "        47.57374642,  48.13275802,  48.47824619,  48.69176962,\n",
       "        49.0372578 ,  49.38274597,  49.5962694 ,  49.94175757,\n",
       "        50.50076917,  50.84625734,  51.05978077,  51.40526894,\n",
       "        51.96428055,  52.30976872,  52.86878032,  53.21426849,\n",
       "        53.42779192,  53.77328009,  54.3322917 ,  54.67777987,\n",
       "        54.8913033 ,  55.23679147,  55.58227964,  55.79580307,\n",
       "        56.14129124,  56.70030285,  57.04579102,  57.25931445,\n",
       "        57.60480262,  58.16381422,  58.50930239,  58.72282582,\n",
       "        59.068314  ,  59.41380217,  59.6273256 ,  59.97281377,\n",
       "        60.53182537,  60.87731354,  61.09083697,  61.43632514,\n",
       "        61.99533675,  62.34082492,  62.89983652,  63.24532469,\n",
       "        63.45884812,  63.80433629,  64.3633479 ,  64.70883607,\n",
       "        64.9223595 ,  65.26784767,  65.61333584,  65.82685927,\n",
       "        66.17234744,  66.73135905,  67.07684722,  67.29037065,\n",
       "        67.63585882,  68.19487042,  68.54035859,  69.0993702 ,\n",
       "        69.44485837,  69.6583818 ,  70.00386997,  70.56288157,\n",
       "        70.90836974,  71.12189317,  71.46738134,  71.81286952,\n",
       "        72.02639295,  72.37188112,  72.93089272,  73.27638089,\n",
       "        73.48990432,  73.83539249,  74.3944041 ,  74.73989227,\n",
       "        74.9534157 ,  75.29890387,  75.64439204,  75.85791547,\n",
       "        76.20340364,  76.76241525,  77.10790342,  77.32142685,\n",
       "        77.66691502,  78.22592662,  78.57141479,  79.1304264 ,\n",
       "        79.47591457,  79.689438  ,  80.03492617,  80.59393777,\n",
       "        80.93942594,  81.15294937,  81.49843755,  81.84392572,\n",
       "        82.05744915,  82.40293732,  82.96194892,  83.30743709,\n",
       "        83.52096052,  83.86644869,  84.4254603 ,  84.77094847,\n",
       "        84.9844719 ,  85.32996007,  85.67544824,  85.88897167,\n",
       "        86.23445984,  86.79347145,  87.13895962,  87.35248305,\n",
       "        87.69797122,  88.25698282,  88.60247099,  89.1614826 ,\n",
       "        89.50697077,  89.7204942 ,  90.06598237,  90.62499397,\n",
       "        90.97048214,  91.18400557,  91.52949375,  91.87498192,\n",
       "        92.08850535,  92.43399352,  92.99300512,  93.33849329,\n",
       "        93.55201672,  93.89750489,  94.4565165 ,  94.80200467,\n",
       "        95.36101627,  95.70650444,  95.92002787,  96.26551604,\n",
       "        96.82452765,  97.17001582,  97.38353925,  97.72902742,\n",
       "        98.07451559,  98.28803902,  98.63352719,  99.1925388 ,\n",
       "        99.53802697,  99.7515504 , 100.09703857, 100.65605017,\n",
       "       101.00153834, 101.21506177, 101.56054995, 101.90603812,\n",
       "       102.11956155, 102.46504972, 103.02406132, 103.36954949,\n",
       "       103.58307292, 103.92856109, 104.4875727 , 104.83306087,\n",
       "       105.39207247, 105.73756064, 105.95108407, 106.29657224,\n",
       "       106.85558385, 107.20107202, 107.41459545, 107.76008362,\n",
       "       108.10557179, 108.31909522, 108.66458339, 109.223595  ,\n",
       "       109.56908317, 109.7826066 , 110.12809477, 110.68710637,\n",
       "       111.03259454, 111.24611797, 111.59160615, 111.93709432,\n",
       "       112.15061775, 112.49610592, 113.05511752, 113.40060569,\n",
       "       113.61412912, 113.95961729, 114.5186289 , 114.86411707,\n",
       "       115.42312867, 115.76861684, 115.98214027, 116.32762844,\n",
       "       116.88664005, 117.23212822, 117.44565165, 117.79113982,\n",
       "       118.13662799, 118.35015142, 118.69563959, 119.2546512 ,\n",
       "       119.60013937, 119.8136628 , 120.15915097, 120.71816257,\n",
       "       121.06365074, 121.62266235, 121.96815052, 122.18167395,\n",
       "       122.52716212, 123.08617372, 123.43166189, 123.64518532,\n",
       "       123.9906735 , 124.33616167, 124.5496851 , 124.89517327,\n",
       "       125.45418487, 125.79967304, 126.01319647, 126.35868464,\n",
       "       126.91769625, 127.26318442, 127.47670785, 127.82219602,\n",
       "       128.16768419, 128.38120762, 128.72669579, 129.2857074 ,\n",
       "       129.63119557, 129.844719  , 130.19020717, 130.74921877,\n",
       "       131.09470694, 131.65371855, 131.99920672, 132.21273015,\n",
       "       132.55821832, 133.11722992, 133.46271809, 133.67624152,\n",
       "       134.0217297 , 134.36721787, 134.5807413 , 134.92622947,\n",
       "       135.48524107, 135.83072924, 136.04425267, 136.38974084,\n",
       "       136.94875245, 137.29424062, 137.85325222, 138.19874039,\n",
       "       138.41226382, 138.75775199, 139.3167636 , 139.66225177,\n",
       "       139.8757752 , 140.22126337, 140.56675154, 140.78027497,\n",
       "       141.12576314, 141.68477475, 142.03026292, 142.24378635,\n",
       "       142.58927452, 143.14828612, 143.49377429, 143.70729772,\n",
       "       144.0527859 , 144.39827407, 144.6117975 , 144.95728567,\n",
       "       145.51629727, 145.86178544, 146.07530887, 146.42079704,\n",
       "       146.97980865, 147.32529682, 147.88430842, 148.22979659,\n",
       "       148.44332002, 148.78880819, 149.3478198 , 149.69330797,\n",
       "       149.9068314 , 150.25231957, 150.59780774, 150.81133117,\n",
       "       151.15681934, 151.71583095, 152.06131912, 152.27484255,\n",
       "       152.62033072, 153.17934232, 153.52483049, 153.73835392,\n",
       "       154.0838421 , 154.42933027, 154.6428537 , 154.98834187,\n",
       "       155.54735347, 155.89284164, 156.10636507, 156.45185324,\n",
       "       157.01086485, 157.35635302, 157.91536462, 158.26085279,\n",
       "       158.47437622, 158.81986439, 159.378876  , 159.72436417,\n",
       "       159.9378876 , 160.28337577, 160.62886394, 160.84238737,\n",
       "       161.18787554, 161.74688715, 162.09237532, 162.30589875,\n",
       "       162.65138692, 163.21039852, 163.55588669, 164.1148983 ,\n",
       "       164.46038647, 164.6739099 , 165.01939807, 165.57840967,\n",
       "       165.92389784, 166.13742127, 166.48290945, 166.82839762,\n",
       "       167.04192105, 167.38740922, 167.94642082, 168.29190899,\n",
       "       168.50543242, 168.85092059, 169.4099322 , 169.75542037,\n",
       "       169.9689438 , 170.31443197, 170.65992014, 170.87344357,\n",
       "       171.21893174, 171.77794335, 172.12343152, 172.33695495,\n",
       "       172.68244312, 173.24145472, 173.58694289, 174.1459545 ,\n",
       "       174.49144267, 174.7049661 , 175.05045427, 175.60946587,\n",
       "       175.95495404, 176.16847747, 176.51396565, 176.85945382,\n",
       "       177.07297725, 177.41846542, 177.97747702, 178.32296519,\n",
       "       178.53648862, 178.88197679, 179.4409884 , 179.78647657])"
      ]
     },
     "execution_count": 43,
     "metadata": {},
     "output_type": "execute_result"
    }
   ],
   "source": [
    "angles"
   ]
  },
  {
   "cell_type": "code",
   "execution_count": 33,
   "metadata": {},
   "outputs": [
    {
     "data": {
      "text/plain": [
       "array([0, 5, 2, 7, 4, 9, 1, 6, 3, 8], dtype=int64)"
      ]
     },
     "execution_count": 33,
     "metadata": {},
     "output_type": "execute_result"
    }
   ],
   "source": [
    "np.argsort(goldenSequence(10))"
   ]
  },
  {
   "cell_type": "code",
   "execution_count": 39,
   "metadata": {},
   "outputs": [
    {
     "data": {
      "text/plain": [
       "<matplotlib.image.AxesImage at 0x2b7e1e9bf98>"
      ]
     },
     "execution_count": 39,
     "metadata": {},
     "output_type": "execute_result"
    },
    {
     "data": {
      "image/png": "[encoded data removed]",
      "text/plain": [
       "<Figure size 432x288 with 1 Axes>"
      ]
     },
     "metadata": {
      "needs_background": "light"
     },
     "output_type": "display_data"
    }
   ],
   "source": [
    "plt.imshow(s[0],vmin=200,vmax=1000)"
   ]
  },
  {
   "cell_type": "code",
   "execution_count": 45,
   "metadata": {},
   "outputs": [],
   "source": [
    "np.save('sinogram.npy',s)\n",
    "np.save('angles.npy',angles)"
   ]
  },
  {
   "cell_type": "code",
   "execution_count": null,
   "metadata": {},
   "outputs": [],
   "source": []
  }
 ],
 "metadata": {
  "kernelspec": {
   "display_name": "Python 3",
   "language": "python",
   "name": "python3"
  },
  "language_info": {
   "codemirror_mode": {
    "name": "ipython",
    "version": 3
   },
   "file_extension": ".py",
   "mimetype": "text/x-python",
   "name": "python",
   "nbconvert_exporter": "python",
   "pygments_lexer": "ipython3",
   "version": "3.7.1"
  }
 },
 "nbformat": 4,
 "nbformat_minor": 2
}
