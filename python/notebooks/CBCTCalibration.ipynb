{
 "cells": [
  {
   "cell_type": "code",
   "execution_count": null,
   "metadata": {},
   "outputs": [],
   "source": [
    "import numpy as np\n",
    "import matplotlib.pyplot as plt\n",
    "from PIL import Image as pil\n",
    "import skimage as im\n",
    "import astropy.io.fits as fits\n",
    "from skimage.filters import threshold_otsu\n",
    "from skimage.morphology import watershed\n",
    "from skimage.feature import peak_local_max\n",
    "from scipy import ndimage as ndi\n",
    "import matplotlib.colors as colors\n",
    "\n",
    "%matplotlib inline\n",
    "#%matplotlib widget"
   ]
  },
  {
   "cell_type": "code",
   "execution_count": null,
   "metadata": {},
   "outputs": [],
   "source": []
  },
  {
   "cell_type": "code",
   "execution_count": null,
   "metadata": {},
   "outputs": [],
   "source": [
    "def loadStack(mask, first, last, step=1) :\n",
    "    img = np.array([1.0])\n",
    "    indices=np.arange(first,last+1,step)\n",
    "    for idx,filenum in enumerate(indices) :\n",
    "        fname=mask.format(filenum)\n",
    "        hdul = fits.open(fname)\n",
    "        tmp = hdul[0].data.astype(float)\n",
    "        \n",
    "        if (idx==0):\n",
    "            img.resize(tmp.shape[0],tmp.shape[1],len(indices))\n",
    "            \n",
    "        img[:,:,idx]=tmp\n",
    "        \n",
    "    return img"
   ]
  },
  {
   "cell_type": "code",
   "execution_count": null,
   "metadata": {},
   "outputs": [],
   "source": [
    "dc=loadStack('/data/P20180255/02_rawdata/00_XCalibration/dc_{:05}.fits',1,10).astype(float).mean(axis=2);\n",
    "ob=loadStack('/data/P20180255/02_rawdata/00_XCalibration/ob_{:05}.fits',1,10).astype(float).mean(axis=2);"
   ]
  },
  {
   "cell_type": "code",
   "execution_count": null,
   "metadata": {},
   "outputs": [],
   "source": [
    "ob1=ob-dc\n",
    "np.nan_to_num(ob1)\n",
    "ob1[ob1<=0]=1\n",
    "print(dc.min(),dc.max(),dc.mean())\n",
    "print(ob1.min(),ob1.max(),ob1.mean())"
   ]
  },
  {
   "cell_type": "code",
   "execution_count": null,
   "metadata": {},
   "outputs": [],
   "source": [
    "plt.figure(figsize=[12,5])\n",
    "plt.subplot(1,2,1)\n",
    "plt.imshow(dc,vmax=10000,vmin=0)\n",
    "plt.title('DC')\n",
    "plt.colorbar()\n",
    "plt.subplot(1,2,2)\n",
    "ob2=ob1[450:500,975:1050]\n",
    "plt.imshow(ob1,vmax=10000,vmin=0)\n",
    "plt.title('OB')\n",
    "plt.colorbar()"
   ]
  },
  {
   "cell_type": "code",
   "execution_count": null,
   "metadata": {},
   "outputs": [],
   "source": [
    "cal=loadStack('/data/P20180255/02_rawdata/00_XCalibration/xcal_{:05}.fits',1,361,10).astype(float)\n",
    "print(cal.min(),cal.max(),cal.mean())\n",
    "plt.imshow(cal[:,:,1],vmin=0.0,vmax=10000)"
   ]
  },
  {
   "cell_type": "code",
   "execution_count": null,
   "metadata": {},
   "outputs": [],
   "source": [
    "def normalizeData(img,ob,dc) :\n",
    "    for idx in np.arange(0, cal.shape[2]):\n",
    "        tmp=(img[:,:,idx]-dc)\n",
    "        tmp[tmp<=0]=1\n",
    "        img[:,:,idx]=(tmp/ob1)\n",
    "    lcal=-np.log(img)\n",
    "    \n",
    "    return lcal"
   ]
  },
  {
   "cell_type": "code",
   "execution_count": null,
   "metadata": {},
   "outputs": [],
   "source": [
    "lcal=normalizeData(cal,ob,dc)"
   ]
  },
  {
   "cell_type": "code",
   "execution_count": null,
   "metadata": {},
   "outputs": [],
   "source": [
    "idx=10\n",
    "plt.figure(figsize=[12,5])\n",
    "plt.subplot(1,2,1)\n",
    "plt.imshow(lcal[:,:,idx],vmin=0,vmax=6)\n",
    "plt.colorbar()\n",
    "plt.subplot(1,2,2)\n",
    "plt.plot(lcal[:,:,idx].mean(axis=0))\n"
   ]
  },
  {
   "cell_type": "code",
   "execution_count": null,
   "metadata": {},
   "outputs": [],
   "source": [
    "def removeBaseline(img) :\n",
    "    baseline = lcal.mean(axis=2).mean(axis=0)\n",
    "    baseline=baseline.reshape(1,baseline.shape[0])\n",
    "\n",
    "    b2=np.matmul(np.ones([lcal.shape[0],1]),baseline)\n",
    "    res=img;\n",
    "    for idx in np.arange(0,img.shape[2]) :\n",
    "        res[:,:,idx]=res[:,:,idx]-b2\n",
    "    return res"
   ]
  },
  {
   "cell_type": "code",
   "execution_count": null,
   "metadata": {},
   "outputs": [],
   "source": [
    "bcal=removeBaseline(lcal)"
   ]
  },
  {
   "cell_type": "code",
   "execution_count": null,
   "metadata": {},
   "outputs": [],
   "source": [
    "idx=5\n",
    "m = bcal.mean()\n",
    "s = bcal.std()\n",
    "plt.figure(figsize=[12,5])\n",
    "plt.subplot(1,2,1)\n",
    "plt.imshow(m+1.96*s < bcal[:,:,idx],vmin=0,vmax=6)\n",
    "plt.colorbar()\n",
    "plt.subplot(1,2,2)\n",
    "plt.plot(bcal[:,:,idx].mean(axis=0))"
   ]
  },
  {
   "cell_type": "code",
   "execution_count": null,
   "metadata": {},
   "outputs": [],
   "source": [
    "def thresholdBBs(img,k) :\n",
    "    s=bcal.std()\n",
    "    m=bcal.mean()\n",
    "    \n",
    "    return (m+k*s)< img\n"
   ]
  },
  {
   "cell_type": "code",
   "execution_count": null,
   "metadata": {},
   "outputs": [],
   "source": [
    "tcal=thresholdBBs(bcal,1.96)"
   ]
  },
  {
   "cell_type": "code",
   "execution_count": null,
   "metadata": {},
   "outputs": [],
   "source": [
    "idx=10\n",
    "plt.figure(figsize=[12,5])\n",
    "plt.subplot(1,2,1)\n",
    "plt.imshow(tcal[:,:,idx],vmin=0,vmax=2)\n",
    "plt.subplot(1,2,2)\n",
    "plt.plot(tcal[:,:,idx].mean(axis=0))"
   ]
  },
  {
   "cell_type": "code",
   "execution_count": null,
   "metadata": {},
   "outputs": [],
   "source": [
    "def findBeads(img) :\n",
    "    distance = ndi.distance_transform_edt(img)\n",
    "    local_maxi = peak_local_max(distance, indices=False, footprint=np.ones((9,9)),labels=img)\n",
    "    markers = ndi.label(local_maxi)[0]\n",
    "\n",
    "    labels = watershed(-distance, markers, mask=img)\n",
    "\n",
    "    h,ax=np.histogram(labels,bins=np.arange(0,labels.max()+1))\n",
    "    m=h[np.argwhere(h<0.05*np.prod(labels.shape))].mean()\n",
    "    s=h[np.argwhere(h<0.05*np.prod(labels.shape))].std()\n",
    "    cog=[]\n",
    "    for i in np.arange(0, h.size) :\n",
    "        if ((m-s)<h[i]) and (h[i]<(m+s)) :\n",
    "            selection=np.argwhere(labels==i)\n",
    "            cog.append(selection.mean(axis=0))\n",
    "       \n",
    "    cog=np.asarray(cog)\n",
    "    return cog,h,ax\n",
    "\n",
    "def buildBeadList(img) :\n",
    "    beadlist = []\n",
    "\n",
    "    for idx in np.arange(0, img.shape[2]) :\n",
    "        cog=findBeads(img[:,:,idx])\n",
    "        beadlist.append(cog)\n",
    "\n",
    "    return beadlist\n"
   ]
  },
  {
   "cell_type": "code",
   "execution_count": null,
   "metadata": {},
   "outputs": [],
   "source": [
    "idx=10\n",
    "cog,h,ax=findBeads(tcal[:,:,idx])\n",
    "\n",
    "plt.figure(figsize=[12,8])\n",
    "plt.imshow(tcal[:,:,idx])\n",
    "\n",
    "plt.plot(cog[:,1]-1,cog[:,0]-1,'r+')"
   ]
  },
  {
   "cell_type": "code",
   "execution_count": null,
   "metadata": {},
   "outputs": [],
   "source": [
    "plt.plot(ax[1:-1],h[1:])\n",
    "A=h[1:-3].mean()\n",
    "R=np.sqrt(A/np.pi)\n",
    "D=2*R\n",
    "print(\"Area=\",A,\", Radius=\",R,\", Diameter=\",D)\n",
    "print(\"D [mm]=\",D*0.139)"
   ]
  },
  {
   "cell_type": "code",
   "execution_count": null,
   "metadata": {},
   "outputs": [],
   "source": [
    "\n",
    "beadlist = []\n",
    "bl2 = np.array([])\n",
    "for idx in np.arange(0, tcal.shape[2]) :\n",
    "    cog=findBeads(tcal[:,:,idx])\n",
    "    beadlist.append(cog)\n",
    "    bl2=np.append(bl2,cog)\n",
    "    "
   ]
  },
  {
   "cell_type": "code",
   "execution_count": null,
   "metadata": {},
   "outputs": [],
   "source": [
    "bl=buildBeadList(tcal)"
   ]
  },
  {
   "cell_type": "code",
   "execution_count": null,
   "metadata": {},
   "outputs": [],
   "source": [
    "for b in beadlist :\n",
    "    print(b.shape)"
   ]
  },
  {
   "cell_type": "code",
   "execution_count": null,
   "metadata": {},
   "outputs": [],
   "source": [
    "beadlist"
   ]
  },
  {
   "cell_type": "code",
   "execution_count": null,
   "metadata": {},
   "outputs": [],
   "source": [
    "for bb in bl :\n",
    " #   print(bb.shape)\n",
    "    plt.plot(bb[:,0],bb[:,1],'.')"
   ]
  },
  {
   "cell_type": "code",
   "execution_count": null,
   "metadata": {},
   "outputs": [],
   "source": [
    "beadlist[0][:,1]"
   ]
  },
  {
   "cell_type": "code",
   "execution_count": null,
   "metadata": {},
   "outputs": [],
   "source": [
    "def rearrangeCOG(coglist,N) :\n",
    "\n",
    "    x=np.ndarray(shape=(len(coglist)*N))\n",
    "    y=np.ndarray(shape=(len(coglist)*N))\n",
    "\n",
    "    for idx in np.arange(0,len(coglist)) :\n",
    "        x[idx*N:((idx+1)*N)]=coglist[idx][0:(N),0]\n",
    "        y[idx*N:((idx+1)*N)]=coglist[idx][0:(N),1]\n",
    "\n",
    "    res=np.ndarray(shape=(len(coglist)-1,2,N))\n",
    "    for idx in np.arange(0,N) :\n",
    "        res[:,0,idx]=x[idx:idx-N:N]\n",
    "        res[:,1,idx]=y[idx:idx-N:N]\n",
    "        \n",
    "    return res\n"
   ]
  },
  {
   "cell_type": "code",
   "execution_count": null,
   "metadata": {},
   "outputs": [],
   "source": [
    "N=16\n",
    "res=rearrangeCOG(beadlist,N)\n"
   ]
  },
  {
   "cell_type": "code",
   "execution_count": null,
   "metadata": {},
   "outputs": [],
   "source": [
    "res.shape"
   ]
  },
  {
   "cell_type": "code",
   "execution_count": null,
   "metadata": {},
   "outputs": [],
   "source": [
    "N=16\n",
    "x,y=rearrangeCOG(beadlist,N)\n",
    "for idx in np.arange(0,len(beadlist)) :\n",
    "    plt.plot(x[idx:idx-N:N],y[idx:idx-N:N],'.')\n"
   ]
  },
  {
   "cell_type": "code",
   "execution_count": null,
   "metadata": {},
   "outputs": [],
   "source": [
    "res=np.ndarray(shape=(len(beadlist)-1,2,N))\n",
    "\n",
    "print(res.shape, len(beadlist))\n",
    "for idx in np.arange(0,N) :\n",
    "    res[:,0,idx]=x[idx:idx-N:N]\n",
    "    res[:,1,idx]=y[idx:idx-N:N]"
   ]
  },
  {
   "cell_type": "code",
   "execution_count": null,
   "metadata": {},
   "outputs": [],
   "source": [
    "plt.figure(figsize=[15,12])\n",
    "for idx in np.arange(0,N) :\n",
    "    plt.subplot(5,4,idx+1)\n",
    "    plt.plot(res[:,1,idx],res[:,0,idx],'.')"
   ]
  },
  {
   "cell_type": "markdown",
   "metadata": {},
   "source": [
    "# Estimate ellipse"
   ]
  },
  {
   "cell_type": "markdown",
   "metadata": {},
   "source": [
    "$\\dfrac {((X-C_x)\\cos(\\theta)+(Y-C_y)\\sin(\\theta))^2}{(R_x)^2}+\\dfrac{((X-C_x) \\sin(\\theta)-(Y-C_y) \\cos(\\theta))^2}{(R_y)^2}=1$\n",
    "\n",
    "There:\n",
    "- (𝐶𝑥,𝐶𝑦) is the center of the Ellipse.\n",
    "- 𝑅𝑥 is the Major-Radius, and 𝑅𝑦 is the Minor-Radius.\n",
    "- 𝜃 is the angle of the Ellipse rotation."
   ]
  },
  {
   "cell_type": "code",
   "execution_count": null,
   "metadata": {},
   "outputs": [],
   "source": [
    "from skimage.measure import EllipseModel "
   ]
  },
  {
   "cell_type": "markdown",
   "metadata": {},
   "source": [
    "## Testing skimage ellipse"
   ]
  },
  {
   "cell_type": "code",
   "execution_count": null,
   "metadata": {},
   "outputs": [],
   "source": [
    "xy = EllipseModel().predict_xy(np.linspace(0, 2 * np.pi, 25),params=(10, 15, 4, 8, np.deg2rad(30)))\n",
    "ellipse = EllipseModel()\n",
    "ellipse.estimate(xy)\n",
    "print(ellipse.params, np.rad2deg(0.5235987755993301))\n",
    "plt.plot(xy[:,0],xy[:,1])"
   ]
  },
  {
   "cell_type": "code",
   "execution_count": null,
   "metadata": {},
   "outputs": [],
   "source": [
    "def estEllipses(coords):\n",
    "    N=coords.shape[2]\n",
    "    pars=np.ndarray(shape=[N,5])\n",
    "    ellipse = EllipseModel()\n",
    "    \n",
    "    for idx in np.arange(0,N) :\n",
    "        ellipse.estimate(coords[:,:,idx])\n",
    "        pars[idx,:]=ellipse.params\n",
    "        \n",
    "    return pars\n",
    "        "
   ]
  },
  {
   "cell_type": "code",
   "execution_count": null,
   "metadata": {},
   "outputs": [],
   "source": [
    "pars=estEllipses(res)"
   ]
  },
  {
   "cell_type": "code",
   "execution_count": null,
   "metadata": {},
   "outputs": [],
   "source": [
    "plt.figure(figsize=[15,9])\n",
    "plt.subplot(2,3,1)\n",
    "plt.plot(pars[:,0],'.')\n",
    "plt.title('x')\n",
    "plt.subplot(2,3,2)\n",
    "plt.plot(pars[:,1],'.')\n",
    "plt.title('y')\n",
    "plt.subplot(2,3,4)\n",
    "plt.plot(pars[:,3],'.')\n",
    "plt.plot(pars[:,2],'.')\n",
    "plt.title('R a and b')\n",
    "plt.subplot(2,3,5)\n",
    "plt.plot(np.rad2deg(pars[:,4]),'.')\n",
    "plt.title('theta')\n",
    "plt.subplot(1,3,3)\n",
    "for idx in np.arange(0,N) :\n",
    "    plt.plot(res[:,1,idx],res[:,0,idx],'.')"
   ]
  },
  {
   "cell_type": "markdown",
   "metadata": {},
   "source": [
    "# Old stuff"
   ]
  },
  {
   "cell_type": "code",
   "execution_count": null,
   "metadata": {},
   "outputs": [],
   "source": []
  },
  {
   "cell_type": "code",
   "execution_count": null,
   "metadata": {},
   "outputs": [],
   "source": [
    "mcal=np.median(cal[1:N:10],axis=0)"
   ]
  },
  {
   "cell_type": "code",
   "execution_count": null,
   "metadata": {},
   "outputs": [],
   "source": [
    "d0=np.mean(cal[0,10:20,10:20])\n",
    "for i in np.arange(1,N) :\n",
    "    di=np.mean(cal[i,10:20,10:20]) \n",
    "    cal[i]=d0/di*cal[i]"
   ]
  },
  {
   "cell_type": "code",
   "execution_count": null,
   "metadata": {},
   "outputs": [],
   "source": [
    "plt.figure(figsize=[15,8])\n",
    "plt.subplot(1,2,1)\n",
    "plt.imshow(mcal)\n",
    "plt.colorbar()\n",
    "plt.subplot(1,2,2)\n",
    "plt.imshow(cal[1].reshape(mcal.shape)-mcal)\n",
    "plt.colorbar()"
   ]
  },
  {
   "cell_type": "code",
   "execution_count": null,
   "metadata": {},
   "outputs": [],
   "source": [
    "def minmax(img) :\n",
    "    print(img.min(),img.max(), img.mean(), img.std())"
   ]
  },
  {
   "cell_type": "code",
   "execution_count": null,
   "metadata": {},
   "outputs": [],
   "source": []
  },
  {
   "cell_type": "code",
   "execution_count": null,
   "metadata": {},
   "outputs": [],
   "source": [
    "a=cal[4].reshape(mcal.shape)-mcal\n",
    "a=a[:,350:1400]\n",
    "plt.subplot(1,2,1)\n",
    "plt.imshow(a)\n",
    "th=threshold_otsu(a)\n",
    "b=a<th\n",
    "plt.subplot(1,2,2)\n",
    "plt.imshow(a<th)"
   ]
  },
  {
   "cell_type": "code",
   "execution_count": null,
   "metadata": {},
   "outputs": [],
   "source": [
    "distance = ndi.distance_transform_edt(b)\n",
    "local_maxi = peak_local_max(distance, indices=False, footprint=np.ones((9,9)),labels=b)\n",
    "markers = ndi.label(local_maxi)[0]\n",
    "\n",
    "labels = watershed(-distance, markers, mask=b)"
   ]
  },
  {
   "cell_type": "code",
   "execution_count": null,
   "metadata": {},
   "outputs": [],
   "source": [
    "cmap = colors.ListedColormap ( np.random.rand ( 256,3))\n",
    "plt.figure(figsize=[15,4])\n",
    "plt.imshow(np.transpose(labels),cmap=cmap)"
   ]
  },
  {
   "cell_type": "code",
   "execution_count": null,
   "metadata": {},
   "outputs": [],
   "source": [
    "h,ax=np.histogram(labels,bins=np.arange(0,labels.max()+1))\n",
    "plt.plot(h[1:])\n",
    "plt.plot([0,47],[h[1:].mean(), h[1:].mean()],'g')\n",
    "plt.plot([0,47],[h[1:].mean()-h[1:].std(), h[1:].mean()-h[1:].std()],'r')\n",
    "plt.plot([0,47],[h[1:].mean()+h[1:].std(), h[1:].mean()+h[1:].std()],'r')"
   ]
  },
  {
   "cell_type": "code",
   "execution_count": null,
   "metadata": {},
   "outputs": [],
   "source": [
    "m=h[np.argwhere(h<0.1*np.prod(labels.shape))].mean()\n",
    "s=h[1:].std()\n",
    "print(m,s,m-s,m+s)\n"
   ]
  },
  {
   "cell_type": "code",
   "execution_count": null,
   "metadata": {},
   "outputs": [],
   "source": [
    "def findBeads(img) :\n",
    "    distance = ndi.distance_transform_edt(img)\n",
    "    local_maxi = peak_local_max(distance, indices=False, footprint=np.ones((9,9)),labels=b)\n",
    "    markers = ndi.label(local_maxi)[0]\n",
    "\n",
    "    labels = watershed(-distance, markers, mask=b)\n",
    "    h,ax=np.histogram(labels,bins=np.arange(0,labels.max()+1))\n",
    "    m=h[np.argwhere(h<0.05*np.prod(labels.shape))].mean()\n",
    "    s=h[np.argwhere(h<0.05*np.prod(labels.shape))].std()\n",
    "    cog=[]\n",
    "    for i in np.arange(0, h.size) :\n",
    "        if ((m-s)<h[i]) and (h[i]<(m+s)) :\n",
    "            selection=np.argwhere(labels==i)\n",
    "            cog.append(selection.mean(axis=0))\n",
    "       \n",
    "    cog=np.asarray(cog)\n",
    "    return cog\n"
   ]
  },
  {
   "cell_type": "code",
   "execution_count": null,
   "metadata": {},
   "outputs": [],
   "source": [
    "cog=findBeads(b)\n",
    "print(cog) \n",
    "plt.figure(figsize=[15,4])\n",
    "plt.imshow(b)\n",
    "\n",
    "plt.plot(cog[:,1]-1,cog[:,0]-1,'r+')"
   ]
  },
  {
   "cell_type": "code",
   "execution_count": null,
   "metadata": {},
   "outputs": [],
   "source": []
  },
  {
   "cell_type": "code",
   "execution_count": null,
   "metadata": {},
   "outputs": [],
   "source": [
    "labels.shape"
   ]
  },
  {
   "cell_type": "code",
   "execution_count": null,
   "metadata": {},
   "outputs": [],
   "source": [
    "pos.mean(axis=0)"
   ]
  },
  {
   "cell_type": "code",
   "execution_count": null,
   "metadata": {},
   "outputs": [],
   "source": []
  }
 ],
 "metadata": {
  "kernelspec": {
   "display_name": "Python 3",
   "language": "python",
   "name": "python3"
  },
  "language_info": {
   "codemirror_mode": {
    "name": "ipython",
    "version": 3
   },
   "file_extension": ".py",
   "mimetype": "text/x-python",
   "name": "python",
   "nbconvert_exporter": "python",
   "pygments_lexer": "ipython3",
   "version": "3.6.4"
  }
 },
 "nbformat": 4,
 "nbformat_minor": 2
}
