{
 "cells": [
  {
   "cell_type": "markdown",
   "id": "80cc07c5",
   "metadata": {},
   "source": [
    "# Image normalization and scattering correction"
   ]
  },
  {
   "cell_type": "markdown",
   "id": "8da2fc2a",
   "metadata": {},
   "source": [
    "## Load the needed modules"
   ]
  },
  {
   "cell_type": "markdown",
   "id": "8a53cd6d",
   "metadata": {},
   "source": [
    "We first need to load some modules to work with this notebook."
   ]
  },
  {
   "cell_type": "code",
   "execution_count": null,
   "id": "58583577",
   "metadata": {},
   "outputs": [],
   "source": [
    "import numpy as np\n",
    "import matplotlib.pyplot as plt\n",
    "import sys\n",
    "sys.path.append('../')\n",
    "import amglib.readers as rd\n",
    "import amglib.bb as bb\n",
    "from skimage.measure import label, regionprops\n",
    "import pandas as pd\n",
    "import skimage.morphology as morph\n",
    "import skimage.filters as filt\n",
    "from skimage.feature import match_template\n",
    "from skimage.draw import disk"
   ]
  },
  {
   "cell_type": "markdown",
   "id": "d07afd5a",
   "metadata": {},
   "source": [
    "The reload is mainly for the development of the support modules used in this notebook."
   ]
  },
  {
   "cell_type": "code",
   "execution_count": null,
   "id": "2e1018f0",
   "metadata": {},
   "outputs": [],
   "source": [
    "import importlib\n",
    "importlib.reload(rd)\n",
    "importlib.reload(bb)"
   ]
  },
  {
   "cell_type": "markdown",
   "id": "10e09752",
   "metadata": {},
   "source": [
    "## Load some test images\n",
    "In this notebook we will work with the following images."
   ]
  },
  {
   "cell_type": "code",
   "execution_count": null,
   "id": "653830fc",
   "metadata": {},
   "outputs": [],
   "source": [
    "img  = rd.readImage('../../../TestData/2D/fits/BB/sample_0001.fits') \n",
    "dc   = rd.readImage('../../../TestData/2D/fits/BB/dc_00001.fits')\n",
    "ob   = rd.readImage('../../../TestData/2D/fits/BB/ob_00001.fits')\n",
    "bbs  = rd.readImage('../../../TestData/2D/fits/BB/bbsample_00001.fits')\n",
    "bbob = rd.readImage('../../../TestData/2D/fits/BB/bbob_00001.fits')"
   ]
  },
  {
   "cell_type": "code",
   "execution_count": null,
   "id": "a884cbcc",
   "metadata": {},
   "outputs": [],
   "source": [
    "fig, ax = plt.subplots(1,5, figsize=(15,5))\n",
    "\n",
    "vmin = 300\n",
    "vmax = 10000\n",
    "cmap = 'gray'\n",
    "ax[0].imshow(dc,   vmin=200,vmax=400,   cmap=cmap); ax[0].set_title('DC')\n",
    "ax[1].imshow(ob,   vmin=vmin,vmax=vmax, cmap=cmap); ax[1].set_title('OB')\n",
    "ax[2].imshow(bbs,  vmin=vmin,vmax=vmax, cmap=cmap); ax[2].set_title('BB Sample')\n",
    "ax[3].imshow(bbob, vmin=vmin,vmax=vmax, cmap=cmap); ax[3].set_title('BB OB')\n",
    "ax[4].imshow(img,  vmin=vmin,vmax=vmax, cmap=cmap); ax[4].set_title('Sample');"
   ]
  },
  {
   "cell_type": "markdown",
   "id": "41cf2241",
   "metadata": {},
   "source": [
    "# Normalization\n",
    "The basic normalization of images is done using the folowing expression:\n",
    "\n",
    "$$T=\\frac{Img-DC}{OB-DC}$$\n",
    "\n",
    "It is expected that the image intensity is equal to one in areas that are not covered by any material.\n",
    "\n",
    "This does not hold when the source intensity is varying between the images. The source is mostly flucuating to some degree, therefore it is good practice to include a dose correction factor \n",
    "\n",
    "$$T_{dose}=\\frac{D(OB,roi)}{D(Img,roi)}\\frac{Img-DC}{OB-DC}$$\n",
    "\n",
    "where the dose is computed as the average intensity of a region which is not covered by any material. The average is senitive to outliers. The median of the region can be used to make the dose calculation more robust against outliers, or like here the average of medians:\n",
    "\n",
    "$$D(f,roi)=mean[median_{rows}[f(roi)]]$$\n"
   ]
  },
  {
   "cell_type": "code",
   "execution_count": null,
   "id": "2bc49063",
   "metadata": {
    "scrolled": false
   },
   "outputs": [],
   "source": [
    "nimg = bb.normalize(img,ob,dc, logarithm=False)\n",
    "N=25\n",
    "prop_cycle = plt.rcParams['axes.prop_cycle']\n",
    "colors = prop_cycle.by_key()['color']\n",
    "\n",
    "fig, ax = plt.subplots(1,3,figsize=(15,4))\n",
    "ax[0].imshow(nimg,vmin=0,vmax=1.25,cmap='gray')\n",
    "ax[0].set_title('Basic normalization')\n",
    "ax[0].hlines(1000,xmin=0,xmax=2047,color=colors[0])\n",
    "nimg_dose = bb.normalize(img,ob,dc, dose_roi = [500,500,550,550], logarithm=False)\n",
    "ax[1].imshow(nimg_dose,vmin=0,vmax=1.25,cmap='gray')\n",
    "ax[1].set_title('Normalization with dose correction')\n",
    "ax[1].hlines(1000,xmin=0,xmax=2047,color=colors[1])\n",
    "\n",
    "ax[2].plot(filt.median(nimg[1000],np.ones(N)),label='Raw normalization')\n",
    "ax[2].set_title('Profiles')\n",
    "\n",
    "ax[2].plot(filt.median(nimg_dose[1000],np.ones(N)),label='Normalization with dose correction')\n",
    "ax[2].legend();"
   ]
  },
  {
   "cell_type": "markdown",
   "id": "16896ef3",
   "metadata": {},
   "source": [
    "You can barely see any difference between the normalized images. When you look at the line profiles you can however see that there actually is a difference in the transmission value of between the two images. The one without dose correction has about 1.02 in the open beam area, which is not physically correct. After the dose correction, you can see that the average intensit in air is about one, but the air profile is not perfectly straight. There is a slight increse close to the sample. This is a phenomenon we will handle in the next section."
   ]
  },
  {
   "cell_type": "markdown",
   "id": "261d2a21",
   "metadata": {},
   "source": [
    "# Improving the quality of the normalization"
   ]
  },
  {
   "cell_type": "code",
   "execution_count": null,
   "id": "92d3e7b1",
   "metadata": {},
   "outputs": [],
   "source": [
    "mask,r,c,regions = bb.get_black_bodies(bbob, greythres = 2000, areas=[500,1000],R=10)\n",
    "plt.imshow(mask, cmap=cmap)\n"
   ]
  },
  {
   "cell_type": "code",
   "execution_count": null,
   "id": "fd332cab",
   "metadata": {
    "scrolled": false
   },
   "outputs": [],
   "source": [
    "regions.head()"
   ]
  },
  {
   "cell_type": "code",
   "execution_count": null,
   "id": "e48dc569",
   "metadata": {},
   "outputs": [],
   "source": [
    "sob=bb.compute_scatter_image(bbob-dc,r,c)\n",
    "ss=bb.compute_scatter_image(bbs-dc,r,c)\n",
    "fig,ax = plt.subplots(1,3,figsize=(12,6))\n",
    "ax[0].imshow(sob, vmin=ss.min(),vmax=ss.max())\n",
    "ax[1].imshow(ss)\n",
    "ax[2].imshow(bbob-dc-sob)"
   ]
  },
  {
   "cell_type": "code",
   "execution_count": null,
   "id": "f3ada048",
   "metadata": {},
   "outputs": [],
   "source": [
    "sob=bb.compute_scatter_image_from_df(regions,img.shape)\n",
    "ss=bb.compute_scatter_image_from_df(regions,img.shape)\n",
    "fig,ax = plt.subplots(1,3,figsize=(12,6))\n",
    "ax[0].imshow(sob, vmin=ss.min(),vmax=ss.max())\n",
    "ax[1].imshow(ss)\n",
    "ax[2].imshow(bbob-dc-sob)"
   ]
  },
  {
   "cell_type": "markdown",
   "id": "e9227d4d",
   "metadata": {},
   "source": [
    "## Detect dots"
   ]
  },
  {
   "cell_type": "code",
   "execution_count": null,
   "id": "7aa21db2",
   "metadata": {},
   "outputs": [],
   "source": [
    "a=bbs-dc"
   ]
  },
  {
   "cell_type": "code",
   "execution_count": null,
   "id": "0a62307b",
   "metadata": {},
   "outputs": [],
   "source": [
    "fig,ax=plt.subplots(1,2,figsize=(12,5))\n",
    "\n",
    "ax[0].imshow(a[350:410,290:350])\n",
    "ax[0].set_title('Dot cropped from image')\n",
    "template=bb.get_dot_template((bbs-dc),roi=[350,290,410,350])\n",
    "ax[1].imshow(template)\n",
    "ax[1].set_title('Template dot');"
   ]
  },
  {
   "cell_type": "markdown",
   "id": "6ddcea13",
   "metadata": {},
   "source": [
    "## Estimate OB scattering image"
   ]
  },
  {
   "cell_type": "code",
   "execution_count": null,
   "id": "1eba9d0f",
   "metadata": {},
   "outputs": [],
   "source": [
    "obmask,r,c,bbdf = bb.get_blackbodies_by_templatematching(bbob-dc,template,0.5)\n",
    "\n",
    "obest=bb.compute_scatter_image_from_df(bbdf,obmask.shape)\n",
    "\n",
    "cmap = 'coolwarm'\n",
    "fig,ax=plt.subplots(1,3,figsize=(12,5))\n",
    "df=bb.check_scatter_image(bbob-dc,0,obmask,ax=ax[0],cmap='viridis')\n",
    "ax[0].set_title('Intensity behind BBs')\n",
    "a1=ax[1].imshow(obest,cmap='viridis')\n",
    "ax[1].set_title('Scatter estimate')\n",
    "fig.colorbar(a1,ax=ax[1],shrink=0.5)\n",
    "df=bb.check_scatter_image(bbob-dc,obest,obmask,ax=ax[2],cmap=cmap,sym_cmap=True)\n",
    "ax[2].set_title('Measured - Estimated');"
   ]
  },
  {
   "cell_type": "markdown",
   "id": "03b41c43",
   "metadata": {},
   "source": [
    "## Estimate scattering image with sample"
   ]
  },
  {
   "cell_type": "code",
   "execution_count": null,
   "id": "57674023",
   "metadata": {},
   "outputs": [],
   "source": [
    "smask,r,c,sdf   = bb.get_blackbodies_by_templatematching(bbs-dc,template,0.5)\n",
    "sest=bb.compute_scatter_image_from_df(sdf,smask.shape)\n",
    "\n",
    "cmap = 'coolwarm'\n",
    "fig,ax=plt.subplots(1,3,figsize=(12,5))\n",
    "df=bb.check_scatter_image(bbs-dc,0,smask,ax=ax[0],cmap='viridis')\n",
    "ax[0].set_title('Intensity behind BBs')\n",
    "a1=ax[1].imshow(sest,cmap='viridis')\n",
    "ax[1].set_title('Scatter estimate')\n",
    "fig.colorbar(a1,ax=ax[1],shrink=0.5)\n",
    "df=bb.check_scatter_image(bbs-dc,sest,smask,ax=ax[2],cmap=cmap,sym_cmap=True)\n",
    "ax[2].set_title('Measured - Estimated');"
   ]
  },
  {
   "cell_type": "markdown",
   "id": "4119b345",
   "metadata": {
    "slideshow": {
     "slide_type": "slide"
    }
   },
   "source": [
    "## Normalization with scattering correction\n",
    "\n",
    "$$\\frac{\\tilde{I}_n}{\\tilde{I}_{OB}}=\\frac{I_n}{I_{OB}}\\cdot\\frac{D(I_{OB})}{D(I_{n})}=\\frac{I_{n}^{*}-I_{DC}-I_{n,BB}^{S}\\frac{D\\left(I_{n}^{*}-I_{DC}\\right)}{D\\left(I_{n,BB}^{*}-I_{DC}-\\left(1-\\frac{1}{\\tau_{BB}}\\right)I_{n,BB}^{S}\\right)\\tau_{BB}}}{I_{OB}^{*}-I_{DC}-I_{BG,BB}^{S}\\frac{D\\left(I_{OB}^{*}-I_{DC}\\right)}{D\\left(I_{OB,BB}^{*}-I_{DC}-\\left(1-\\frac{1}{\\tau_{BB}}\\right)I_{BG,BB}^{S}\\right)\\tau_{BB}}}\\cdot\\frac{D\\left(I_{OB}^{*}-I_{DC}-I_{BG,BB}^{S}\\frac{D\\left(I_{OB}^{*}-I_{DC}\\right)}{D\\left(I_{OB,BB}^{*}-I_{DC}-\\left(1-\\frac{1}{\\tau_{BB}}\\right)I_{BG,BB}^{S}\\right)\\tau_{BB}}\\right)}{D\\left(I_{n}^{*}-I_{DC}-I_{n,BB}^{S}\\frac{D\\left(I_{n}^{*}-I_{DC}\\right)}{D\\left(I_{n,BB}^{*}-I_{DC}-\\left(1-\\frac{1}{\\tau_{BB}}\\right)I_{n,BB}^{S}\\right)\\tau_{BB}}\\right)}$$"
   ]
  },
  {
   "cell_type": "code",
   "execution_count": null,
   "id": "e2820d39",
   "metadata": {},
   "outputs": [],
   "source": [
    "# Projection normalized with dose correction\n",
    "nimg_dose = bb.normalize(img,ob,dc, dose_roi = [500,500,550,550], logarithm=False)\n",
    "\n",
    "# Projection normalized with scattering correction\n",
    "nimg_sc   = bb.normalization_with_BB(img,ob,dc,bbs,bbob,sest,obest,[500,500,550,550],0.97)"
   ]
  },
  {
   "cell_type": "code",
   "execution_count": null,
   "id": "ef7f228e",
   "metadata": {
    "hide_input": true
   },
   "outputs": [],
   "source": [
    "# Visualization \n",
    "N=25\n",
    "prop_cycle = plt.rcParams['axes.prop_cycle']\n",
    "colors = prop_cycle.by_key()['color']\n",
    "\n",
    "fig, ax = plt.subplots(1,3,figsize=(15,4))\n",
    "\n",
    "ax[0].imshow(nimg_dose,vmin=0,vmax=1.25,cmap='gray')\n",
    "ax[0].set_title('Normalization with dose correction')\n",
    "ax[0].hlines(1000,xmin=0,xmax=2047,color=colors[0])\n",
    "\n",
    "ax[1].imshow(nimg_sc,vmin=0,vmax=1.25,cmap='gray')\n",
    "ax[1].set_title('Normalization with scattering correction')\n",
    "ax[1].hlines(1000,xmin=0,xmax=2047,color=colors[1])\n",
    "\n",
    "ax[2].plot(filt.median(nimg_dose[1000:1010].mean(axis=0), np.ones(N)),  label='Normalization with dose correction')\n",
    "ax[2].plot(filt.median(nimg_sc[1000:1010].mean(axis=0),   np.ones(N)),  label='Normalization with scattering correction')\n",
    "\n",
    "ax[2].set_title('Profiles')\n",
    "\n",
    "ax[2].legend();"
   ]
  }
 ],
 "metadata": {
  "celltoolbar": "Slideshow",
  "kernelspec": {
   "display_name": "Python 3 (ipykernel)",
   "language": "python",
   "name": "python3"
  },
  "language_info": {
   "codemirror_mode": {
    "name": "ipython",
    "version": 3
   },
   "file_extension": ".py",
   "mimetype": "text/x-python",
   "name": "python",
   "nbconvert_exporter": "python",
   "pygments_lexer": "ipython3",
   "version": "3.9.7"
  }
 },
 "nbformat": 4,
 "nbformat_minor": 5
}
