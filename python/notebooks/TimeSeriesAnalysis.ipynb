{
 "cells": [
  {
   "cell_type": "markdown",
   "metadata": {},
   "source": [
    "# Time series analysis"
   ]
  },
  {
   "cell_type": "code",
   "execution_count": null,
   "metadata": {},
   "outputs": [],
   "source": [
    "import matplotlib.pyplot as plt\n",
    "import numpy as np\n",
    "import sys\n",
    "sys.path.append('../')  # adjust path to find amglib\n",
    "import amglib.readers as rd\n",
    "import amglib.imageutils as amg\n",
    "from datetime import datetime\n",
    "import pandas as pd"
   ]
  },
  {
   "cell_type": "markdown",
   "metadata": {},
   "source": [
    "## Load data"
   ]
  },
  {
   "cell_type": "code",
   "execution_count": null,
   "metadata": {},
   "outputs": [],
   "source": [
    "path = '/Users/Shared/data/P20240041/02_rawdata/01_Breccia/' # path to the data\n",
    "\n",
    "# Read images, adjust filenames to match your data\n",
    "dc = rd.read_images(path+'dc_{0:05d}.fits',first=1, last=5).mean(axis=0)\n",
    "ob = rd.read_images(path+'ob_{0:05d}.fits',first=1, last=5).mean(axis=0) \n",
    "\n",
    "img = rd.read_images(path+'ct_{0:05d}.fits', first=1, last =103)"
   ]
  },
  {
   "cell_type": "markdown",
   "metadata": {},
   "source": [
    "### Working with meta data\n",
    "\n",
    "Each fits image contains meta data from the experiment. The entries have names that can be found using imagej [Image]->[Show Info...].\n",
    "\n",
    "Here we look at the parameters\n",
    "- ```Frame``` - the time stamp of the image\n",
    "- ```HIERARCH sensors/temperature``` - ambient temperature in the bunker\n",
    "- ```HIERARCH sensors/humidity``` - ambient humidity in the bunker\n",
    "- ```HIERARCH detector/exp_avg``` - average proton current of the image\n"
   ]
  },
  {
   "cell_type": "code",
   "execution_count": 17,
   "metadata": {},
   "outputs": [],
   "source": [
    "# Adjust filenames to match your data\n",
    "meta = rd.read_fits_meta_data2(path+'ct_{0:05d}.fits', first=1, last =103, parlist=['FRAME','HIERARCH sensors/temperature','HIERARCH sensors/humidity'])"
   ]
  },
  {
   "cell_type": "markdown",
   "metadata": {},
   "source": [
    "#### Get the time stamps of the images"
   ]
  },
  {
   "cell_type": "code",
   "execution_count": null,
   "metadata": {},
   "outputs": [],
   "source": [
    "times =[]\n",
    "\n",
    "for idx in range(len(meta['FRAME'])) :\n",
    "    times.append(datetime.strptime(meta['FRAME'][idx], '%Y-%m-%dT%H:%M:%S'))"
   ]
  },
  {
   "cell_type": "markdown",
   "metadata": {},
   "source": [
    "##### Compute seconds from the first wet image\n",
    "The first wet images is at idx=5"
   ]
  },
  {
   "cell_type": "code",
   "execution_count": null,
   "metadata": {},
   "outputs": [],
   "source": [
    "dt = []\n",
    "\n",
    "for t in times :\n",
    "    dt.append((t-times[5]).total_seconds())"
   ]
  },
  {
   "cell_type": "markdown",
   "metadata": {},
   "source": [
    "#### Make a temperature data vector"
   ]
  },
  {
   "cell_type": "code",
   "execution_count": null,
   "metadata": {},
   "outputs": [],
   "source": [
    "temp = np.zeros(len(meta['HIERARCH sensors/temperature']))\n",
    "\n",
    "for idx in range(len(temp)):\n",
    "    temp[idx]=float(meta['HIERARCH sensors/temperature'][idx].split()[0])\n",
    "\n",
    "plt.plot(temp)\n",
    "plt.title('Mean temperature {0:0.2f}'.format(temp.mean()))"
   ]
  },
  {
   "cell_type": "markdown",
   "metadata": {},
   "source": [
    "#### Make a humidity data vector"
   ]
  },
  {
   "cell_type": "code",
   "execution_count": null,
   "metadata": {},
   "outputs": [],
   "source": [
    "hum = np.zeros(len(meta['HIERARCH sensors/humidity']))\n",
    "\n",
    "for idx in range(len(hum)):\n",
    "    hum[idx]=float(meta['HIERARCH sensors/humidity'][idx].split()[0])\n",
    "    \n",
    "plt.plot(hum)\n",
    "\n",
    "plt.title('Mean humidity {0:0.2f}'.format(hum.mean()))"
   ]
  },
  {
   "cell_type": "markdown",
   "metadata": {},
   "source": [
    "#### Create a meta data data-frame"
   ]
  },
  {
   "cell_type": "code",
   "execution_count": null,
   "metadata": {},
   "outputs": [],
   "source": [
    "data = {'time_stamps': times, 'time': dt, 'humidity' : hum, 'temperature' : temp}\n",
    "\n",
    "df = pd.DataFrame(data)\n",
    "df"
   ]
  },
  {
   "cell_type": "markdown",
   "metadata": {},
   "source": [
    "Save the data frame as Excel sheet"
   ]
  },
  {
   "cell_type": "code",
   "execution_count": null,
   "metadata": {},
   "outputs": [],
   "source": [
    "df.to_excel('metadata.xlsx')"
   ]
  },
  {
   "cell_type": "markdown",
   "metadata": {},
   "source": [
    "### Find and show dose region"
   ]
  },
  {
   "cell_type": "code",
   "execution_count": null,
   "metadata": {},
   "outputs": [],
   "source": [
    "plt.imshow(img[0,400:500,40:55],vmin=10000,vmax=27000)"
   ]
  },
  {
   "cell_type": "markdown",
   "metadata": {},
   "source": [
    "## Normalize the image series\n",
    "\n",
    "Run the normalization \n",
    "$$nimg=\\frac{D_0}{D}\\frac{I-I_{dc}}{I_0-I_{dc}}$$\n",
    "\n",
    "the parameter ```neglog``` switches if the logarithm is used or not. "
   ]
  },
  {
   "cell_type": "code",
   "execution_count": null,
   "metadata": {
    "scrolled": true
   },
   "outputs": [],
   "source": [
    "nimg = amg.normalizeImage(img,ob,dc,doseROI=[400,40,500,55],neglog=True)\n",
    "\n",
    "# Uncomment to flip image vertically\n",
    "# nimg=nimg[:,::-1]"
   ]
  },
  {
   "cell_type": "markdown",
   "metadata": {},
   "source": [
    "It often makes sense to use spot cleaning. This must be implemented as a loop using the function below."
   ]
  },
  {
   "cell_type": "code",
   "execution_count": 137,
   "metadata": {},
   "outputs": [],
   "source": [
    "c=amg.morph_spot_clean(nimg[0])"
   ]
  },
  {
   "cell_type": "code",
   "execution_count": null,
   "metadata": {
    "scrolled": true
   },
   "outputs": [],
   "source": [
    "plt.imshow(nimg[0],vmin=-0.1, vmax=0.1)"
   ]
  },
  {
   "cell_type": "code",
   "execution_count": null,
   "metadata": {},
   "outputs": [],
   "source": [
    "plt.imshow((c)[500:600,500:600],vmin=-0.1, vmax=0.1)"
   ]
  },
  {
   "cell_type": "markdown",
   "metadata": {},
   "source": [
    "Save images as a stack of floating point tiff images."
   ]
  },
  {
   "cell_type": "code",
   "execution_count": null,
   "metadata": {
    "scrolled": true
   },
   "outputs": [],
   "source": [
    "rd.save_TIFF('norm_{0:05d}.tif',nimg,startIndex=1)"
   ]
  },
  {
   "cell_type": "markdown",
   "metadata": {},
   "source": [
    "## Show results\n",
    "\n",
    "The time frames are shown as the differnece to the image at T0."
   ]
  },
  {
   "cell_type": "code",
   "execution_count": null,
   "metadata": {},
   "outputs": [],
   "source": [
    "fig,ax = plt.subplots(4,5,figsize=(15,13))\n",
    "ax = ax.ravel()\n",
    "\n",
    "for idx,i in enumerate(np.arange(10,100,5)) :\n",
    "    a=ax[idx].imshow(nimg[i]-nimg[5],vmin=-0.02,vmax=0.07)\n",
    "    ax[idx].set_title(meta['FRAME'][i])\n",
    "#     fig.colorbar(a,axis=ax[idx])\n",
    "\n",
    "ax[-2].imshow(nimg[5],vmin=-0.02,vmax=0.05)\n",
    "ax[-2].set_title(\"First\")\n",
    "ax[-1].imshow(nimg[-1],vmin=-0.02,vmax=0.05)\n",
    "ax[-1].set_title(\"Last\")\n",
    "plt.tight_layout()\n",
    "plt.savefig('frames.pdf')"
   ]
  },
  {
   "cell_type": "code",
   "execution_count": null,
   "metadata": {},
   "outputs": [],
   "source": []
  }
 ],
 "metadata": {
  "kernelspec": {
   "display_name": "base",
   "language": "python",
   "name": "python3"
  },
  "language_info": {
   "codemirror_mode": {
    "name": "ipython",
    "version": 3
   },
   "file_extension": ".py",
   "mimetype": "text/x-python",
   "name": "python",
   "nbconvert_exporter": "python",
   "pygments_lexer": "ipython3",
   "version": "3.9.18"
  }
 },
 "nbformat": 4,
 "nbformat_minor": 4
}
