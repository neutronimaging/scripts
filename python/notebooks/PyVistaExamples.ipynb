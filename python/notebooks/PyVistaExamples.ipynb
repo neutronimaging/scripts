{
 "cells": [
  {
   "cell_type": "markdown",
   "id": "aacbbebf",
   "metadata": {},
   "source": [
    "# PyVista patterns"
   ]
  },
  {
   "cell_type": "code",
   "execution_count": null,
   "id": "98206a39",
   "metadata": {},
   "outputs": [],
   "source": [
    "import numpy as np\n",
    "import matplotlib.pyplot as plt\n",
    "import sys\n",
    "sys.path.append('../')\n",
    "import amglib.readers as rd"
   ]
  },
  {
   "cell_type": "markdown",
   "id": "c5daa335",
   "metadata": {},
   "source": [
    "## Load data\n",
    "Adjust the data path and number of slides for your data"
   ]
  },
  {
   "cell_type": "code",
   "execution_count": null,
   "id": "cd75edf6",
   "metadata": {},
   "outputs": [],
   "source": [
    "filemask = '/Users/Shared/Data/Budha/recon/top-head/head_{0:04d}.tif'\n",
    "first = 165\n",
    "last  = 750\n",
    "volume = rd.read_images(filemask,first=first, last=last).astype(np.float64)"
   ]
  },
  {
   "cell_type": "markdown",
   "id": "88d10380",
   "metadata": {},
   "source": [
    "__Note__: the data must have the data type np.float64."
   ]
  },
  {
   "cell_type": "markdown",
   "id": "dfed25ea",
   "metadata": {},
   "source": [
    "## Basic volume rendering\n",
    "This is a method for quick rendering with minimal interaction "
   ]
  },
  {
   "cell_type": "code",
   "execution_count": null,
   "id": "31a8e043",
   "metadata": {},
   "outputs": [],
   "source": [
    "import pyvista as pv\n",
    "import numpy as np\n",
    "\n",
    "grid = pv.wrap(volume)  # Automatically creates UniformGrid\n",
    "grid.spacing = (0.5, 0.5, 0.5)  # optional\n",
    "grid.plot(volume=True)\n"
   ]
  },
  {
   "cell_type": "markdown",
   "id": "f51119f3",
   "metadata": {},
   "source": [
    "# Advanced volume rendering"
   ]
  },
  {
   "cell_type": "code",
   "execution_count": null,
   "id": "9c075357",
   "metadata": {},
   "outputs": [],
   "source": [
    "def sigmoid(x, k=1.0, x0=0.0):\n",
    "    return 1 / (1 + np.exp(-k * (x - x0)))\n",
    "\n",
    "x=np.linspace(0,1,20)\n",
    "opacity = sigmoid(x,k=20,x0=0.6)\n",
    "\n",
    "plt.plot(x,opacity)\n",
    "h = np.histogram(volume.ravel()[::10],bins=100);\n",
    "plt.plot(h[1][:-1]/h[1][-2],h[0]/h[0].max())"
   ]
  },
  {
   "cell_type": "code",
   "execution_count": null,
   "id": "7fbca274",
   "metadata": {
    "scrolled": false
   },
   "outputs": [],
   "source": [
    "import pyvista as pv\n",
    "from pyvista import examples\n",
    "\n",
    "# Convert to UniformGrid\n",
    "grid = pv.wrap(volume)\n",
    "grid.point_data[\"values\"] = volume.ravel(order=\"F\")\n",
    "\n",
    "x=np.linspace(0,1,20)\n",
    "opacity = sigmoid(x,k=20,x0=0.6)\n",
    "\n",
    "# Plot\n",
    "p = pv.Plotter()\n",
    "p.add_volume(grid, opacity=opacity, cmap='viridis')\n",
    "p.show()\n"
   ]
  },
  {
   "cell_type": "markdown",
   "id": "822383cf",
   "metadata": {},
   "source": [
    "## Showing planes\n",
    "Orthoplanes is basic but still powerful method to gain an overview of a volume."
   ]
  },
  {
   "cell_type": "code",
   "execution_count": null,
   "id": "553c682e",
   "metadata": {},
   "outputs": [],
   "source": [
    "import pyvista as pv\n",
    "import numpy as np\n",
    "\n",
    "# Wrap as a PyVista UniformGrid\n",
    "grid = pv.wrap(volume)\n",
    "grid.spacing = (0.5, 0.5, 0.5)  # Optional, real-world spacing\n",
    "\n",
    "# Compute center of grid in physical coordinates\n",
    "center = np.array(grid.bounds).reshape(3, 2).mean(axis=1)\n",
    "\n",
    "# Extract orthogonal slices through center\n",
    "slices = grid.slice_orthogonal()\n",
    "\n",
    "# Visualize\n",
    "slices.plot(cmap='viridis', show_bounds=True, show_axes=True, opacity=0.85)\n"
   ]
  },
  {
   "cell_type": "code",
   "execution_count": null,
   "id": "4ade45b4",
   "metadata": {},
   "outputs": [],
   "source": []
  }
 ],
 "metadata": {
  "kernelspec": {
   "display_name": "Python 3 (ipykernel)",
   "language": "python",
   "name": "python3"
  },
  "language_info": {
   "codemirror_mode": {
    "name": "ipython",
    "version": 3
   },
   "file_extension": ".py",
   "mimetype": "text/x-python",
   "name": "python",
   "nbconvert_exporter": "python",
   "pygments_lexer": "ipython3",
   "version": "3.12.10"
  }
 },
 "nbformat": 4,
 "nbformat_minor": 5
}
