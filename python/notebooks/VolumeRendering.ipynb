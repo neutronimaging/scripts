{
 "cells": [
  {
   "cell_type": "markdown",
   "id": "b2797f81",
   "metadata": {},
   "source": [
    "# Test with pyvista\n",
    "https://docs.pyvista.org/index.html"
   ]
  },
  {
   "cell_type": "code",
   "execution_count": 2,
   "id": "81d14c5f",
   "metadata": {},
   "outputs": [],
   "source": [
    "import numpy as np\n",
    "import pyvista as pv"
   ]
  },
  {
   "cell_type": "markdown",
   "id": "c2dd0141",
   "metadata": {},
   "source": [
    "## Load data\n",
    "The test data is located in the TestData repository\n",
    "\n",
    "```bash\n",
    "git clone https://github.com/neutronimaging/TestData.git\n",
    "```\n",
    "\n",
    "The volume is loaded as a numpy array."
   ]
  },
  {
   "cell_type": "code",
   "execution_count": 3,
   "id": "c9165c18",
   "metadata": {},
   "outputs": [],
   "source": [
    "img=np.load('../../../TestData/3D/npy/grains.npy')"
   ]
  },
  {
   "cell_type": "code",
   "execution_count": 4,
   "id": "8832ea83",
   "metadata": {
    "scrolled": false
   },
   "outputs": [
    {
     "data": {
      "application/vnd.jupyter.widget-view+json": {
       "model_id": "9197cda795da4714af9e0a325135c76c",
       "version_major": 2,
       "version_minor": 0
      },
      "text/plain": [
       "ViewInteractiveWidget(height=768, layout=Layout(height='auto', width='100%'), width=1024)"
      ]
     },
     "metadata": {},
     "output_type": "display_data"
    }
   ],
   "source": [
    "p = pv.Plotter()\n",
    "p.background_color = 'white'\n",
    "p.add_volume(img,cmap='viridis')\n",
    "# cpos = [(-381.74, -46.02, 216.54), (74.8305, 89.2905, 100.0), (0.23, 0.072, 0.97)]\n",
    "# p.camera_position = cpos\n",
    "p.show()"
   ]
  },
  {
   "cell_type": "code",
   "execution_count": 19,
   "id": "7f5a5f5c",
   "metadata": {
    "scrolled": false
   },
   "outputs": [
    {
     "data": {
      "application/vnd.jupyter.widget-view+json": {
       "model_id": "a9640b06f3ab43ea83ea657a6a2cbc1c",
       "version_major": 2,
       "version_minor": 0
      },
      "text/plain": [
       "ViewInteractiveWidget(height=768, layout=Layout(height='auto', width='100%'), width=1024)"
      ]
     },
     "metadata": {},
     "output_type": "display_data"
    }
   ],
   "source": [
    "p = pv.Plotter()\n",
    "p.background_color = 'white'\n",
    "c=230.0\n",
    "r=c*img\n",
    "b=(1-img)*c\n",
    "g=0.5*(r+b)\n",
    "\n",
    "data = [r,g,b]\n",
    "blocks = pv.MultiBlock(data)\n",
    "p.add_volume(blocks,multi_colors=True)\n",
    "# cpos = [(-381.74, -46.02, 216.54), (74.8305, 89.2905, 100.0), (0.23, 0.072, 0.97)]\n",
    "# p.camera_position = cpos\n",
    "p.show()"
   ]
  },
  {
   "cell_type": "code",
   "execution_count": 25,
   "id": "8eac2087",
   "metadata": {},
   "outputs": [
    {
     "data": {
      "application/vnd.jupyter.widget-view+json": {
       "model_id": "bcd9055c02ba4c0b91c282add84d1c7d",
       "version_major": 2,
       "version_minor": 0
      },
      "text/plain": [
       "ViewInteractiveWidget(height=768, layout=Layout(height='auto', width='100%'), width=1024)"
      ]
     },
     "metadata": {},
     "output_type": "display_data"
    }
   ],
   "source": [
    "cpos = [\n",
    "    (540.9115516905358, -617.1912234499737, 180.5084853429126),\n",
    "    (128.31920055083387, 126.4977720785509, 111.77682599082095),\n",
    "    (-0.1065160140819035, 0.032750075477590124, 0.9937714884722322),\n",
    "]\n",
    "dargs = dict(cmap='viridis')\n",
    "\n",
    "p1 = pv.Plotter()\n",
    "p1.background_color = 'white'\n",
    "slices=blocks.slice_orthogonal(x=250, z=75)\n",
    "p1.add_mesh(slices)\n",
    "p1.show()\n",
    "p1.save_graphic('test.pdf')"
   ]
  },
  {
   "cell_type": "code",
   "execution_count": 21,
   "id": "9d49249d",
   "metadata": {},
   "outputs": [
    {
     "data": {
      "text/plain": [
       "115.0"
      ]
     },
     "execution_count": 21,
     "metadata": {},
     "output_type": "execute_result"
    }
   ],
   "source": [
    "g.max()"
   ]
  },
  {
   "cell_type": "code",
   "execution_count": null,
   "id": "685256d4",
   "metadata": {},
   "outputs": [],
   "source": []
  }
 ],
 "metadata": {
  "kernelspec": {
   "display_name": "Python 3 (ipykernel)",
   "language": "python",
   "name": "python3"
  },
  "language_info": {
   "codemirror_mode": {
    "name": "ipython",
    "version": 3
   },
   "file_extension": ".py",
   "mimetype": "text/x-python",
   "name": "python",
   "nbconvert_exporter": "python",
   "pygments_lexer": "ipython3",
   "version": "3.9.12"
  }
 },
 "nbformat": 4,
 "nbformat_minor": 5
}
