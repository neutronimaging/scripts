{
 "cells": [
  {
   "cell_type": "markdown",
   "id": "b2797f81",
   "metadata": {},
   "source": [
    "# Test with pyvista\n",
    "https://docs.pyvista.org/index.html"
   ]
  },
  {
   "cell_type": "code",
   "execution_count": 2,
   "id": "81d14c5f",
   "metadata": {},
   "outputs": [],
   "source": [
    "import numpy as np\n",
    "import pyvista as pv"
   ]
  },
  {
   "cell_type": "markdown",
   "id": "b5adf572",
   "metadata": {},
   "source": [
    "## Load data\n",
    "The test data is located in the TestData repository\n",
    "\n",
    "```bash\n",
    "git clone https://github.com/neutronimaging/TestData.git\n",
    "```\n",
    "\n",
    "The volume is loaded as a numpy array."
   ]
  },
  {
   "cell_type": "code",
   "execution_count": 3,
   "id": "c9165c18",
   "metadata": {},
   "outputs": [],
   "source": [
    "img=np.load('../../../TestData/3D/npy/grains.npy')"
   ]
  },
  {
   "cell_type": "code",
   "execution_count": 4,
   "id": "8832ea83",
   "metadata": {
    "scrolled": false
   },
   "outputs": [
    {
     "data": {
      "application/vnd.jupyter.widget-view+json": {
       "model_id": "9197cda795da4714af9e0a325135c76c",
       "version_major": 2,
       "version_minor": 0
      },
      "text/plain": [
       "ViewInteractiveWidget(height=768, layout=Layout(height='auto', width='100%'), width=1024)"
      ]
     },
     "metadata": {},
     "output_type": "display_data"
    }
   ],
   "source": [
    "p = pv.Plotter()\n",
    "p.background_color = 'white'\n",
    "p.add_volume(img,cmap='viridis')\n",
    "# cpos = [(-381.74, -46.02, 216.54), (74.8305, 89.2905, 100.0), (0.23, 0.072, 0.97)]\n",
    "# p.camera_position = cpos\n",
    "p.show()"
   ]
  },
  {
   "cell_type": "code",
   "execution_count": 8,
   "id": "7f5a5f5c",
   "metadata": {
    "scrolled": false
   },
   "outputs": [
    {
     "data": {
      "application/vnd.jupyter.widget-view+json": {
       "model_id": "c18134be36d44afb9e665d9836f853d7",
       "version_major": 2,
       "version_minor": 0
      },
      "text/plain": [
       "ViewInteractiveWidget(height=768, layout=Layout(height='auto', width='100%'), width=1024)"
      ]
     },
     "metadata": {},
     "output_type": "display_data"
    }
   ],
   "source": [
    "p = pv.Plotter()\n",
    "p.background_color = 'white'\n",
    "c=230\n",
    "r=c*img\n",
    "b=(1-img)*c*.1\n",
    "g=0.5*(r+b)\n",
    "\n",
    "data = [r,g,b]\n",
    "blocks = pv.MultiBlock(data)\n",
    "p.add_volume(blocks,multi_colors=True)\n",
    "# cpos = [(-381.74, -46.02, 216.54), (74.8305, 89.2905, 100.0), (0.23, 0.072, 0.97)]\n",
    "# p.camera_position = cpos\n",
    "p.show()"
   ]
  },
  {
   "cell_type": "code",
   "execution_count": 10,
   "id": "8eac2087",
   "metadata": {},
   "outputs": [
    {
     "data": {
      "application/vnd.jupyter.widget-view+json": {
       "model_id": "fce589bab6d3402483b814e7274febe9",
       "version_major": 2,
       "version_minor": 0
      },
      "text/plain": [
       "ViewInteractiveWidget(height=768, layout=Layout(height='auto', width='100%'), width=1024)"
      ]
     },
     "metadata": {},
     "output_type": "display_data"
    }
   ],
   "source": [
    "cpos = [\n",
    "    (540.9115516905358, -617.1912234499737, 180.5084853429126),\n",
    "    (128.31920055083387, 126.4977720785509, 111.77682599082095),\n",
    "    (-0.1065160140819035, 0.032750075477590124, 0.9937714884722322),\n",
    "]\n",
    "dargs = dict(cmap='viridis')\n",
    "\n",
    "p1 = pv.Plotter()\n",
    "p1.background_color = 'white'\n",
    "slices=blocks.slice_orthogonal(x=100, z=75)\n",
    "p1.add_mesh(slices)\n",
    "p1.show()"
   ]
  },
  {
   "cell_type": "code",
   "execution_count": null,
   "id": "9d49249d",
   "metadata": {},
   "outputs": [],
   "source": []
  }
 ],
 "metadata": {
  "kernelspec": {
   "display_name": "Python 3 (ipykernel)",
   "language": "python",
   "name": "python3"
  },
  "language_info": {
   "codemirror_mode": {
    "name": "ipython",
    "version": 3
   },
   "file_extension": ".py",
   "mimetype": "text/x-python",
   "name": "python",
   "nbconvert_exporter": "python",
   "pygments_lexer": "ipython3",
   "version": "3.9.12"
  }
 },
 "nbformat": 4,
 "nbformat_minor": 5
}
