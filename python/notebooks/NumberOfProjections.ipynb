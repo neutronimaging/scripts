{
 "cells": [
  {
   "cell_type": "markdown",
   "metadata": {},
   "source": [
    "# Demonstration of number of projections for full turn CT acquisition"
   ]
  },
  {
   "cell_type": "code",
   "execution_count": 5,
   "metadata": {
    "collapsed": true,
    "jupyter": {
     "outputs_hidden": true
    }
   },
   "outputs": [],
   "source": [
    "import numpy as np\n",
    "import matplotlib.pyplot as plt\n",
    "%matplotlib inline "
   ]
  },
  {
   "cell_type": "markdown",
   "metadata": {},
   "source": [
    "## The effect of even vs. odd numner of projections"
   ]
  },
  {
   "cell_type": "code",
   "execution_count": 39,
   "metadata": {},
   "outputs": [
    {
     "data": {
      "text/plain": [
       "<matplotlib.text.Text at 0x110b02860>"
      ]
     },
     "execution_count": 39,
     "metadata": {},
     "output_type": "execute_result"
    },
    {
     "data": {
      "text/plain": [
       "<matplotlib.figure.Figure at 0x1117ea6d8>"
      ]
     },
     "metadata": {},
     "output_type": "display_data"
    },
    {
     "data": {
      "image/png": "[encoded data removed]",
      "text/plain": [
       "<matplotlib.figure.Figure at 0x1117ea898>"
      ]
     },
     "metadata": {},
     "output_type": "display_data"
    }
   ],
   "source": [
    "R=1\n",
    "\n",
    "plt.figure()\n",
    "marker_blue = dict(color='cornflowerblue', linestyle='', marker='o',\n",
    "                    markersize=10, markerfacecoloralt='gray')\n",
    "\n",
    "marker_red = dict(color='tomato', linestyle='', marker='+',\n",
    "                    markersize=10, markerfacecoloralt='gray')\n",
    "\n",
    "fig, ax = plt.subplots(figsize=(15,7))\n",
    "N=50.0\n",
    "dPhi=np.pi/180.0*360.0/N\n",
    "plt.subplot(1,2,1)\n",
    "for i in np.arange(0,N):\n",
    "    phi = i*dPhi\n",
    "    x   = R*np.sin(phi)*np.array([1,-1])\n",
    "    y   = R*np.cos(phi)*np.array([1,-1])\n",
    "\n",
    "    if (phi<np.pi) :\n",
    "        plt.plot(x,y,**marker_blue)\n",
    "    else :\n",
    "        plt.plot(x,y,**marker_red)\n",
    "        \n",
    "ax.set_axis_off()\n",
    "plt.title('Even number of projections')\n",
    "\n",
    "N=51.0\n",
    "dPhi=np.pi/180.0*360.0/N\n",
    "plt.subplot(1,2,2)\n",
    "for i in np.arange(0,N):\n",
    "    phi = i*dPhi\n",
    "    x   = R*np.sin(phi)*np.array([1,-1])\n",
    "    y   = R*np.cos(phi)*np.array([1,-1])\n",
    "\n",
    "    if (phi<np.pi) :\n",
    "        plt.plot(x,y,**marker_blue)\n",
    "    else :\n",
    "        plt.plot(x,y,**marker_red)\n",
    "        \n",
    "ax.set_axis_off()\n",
    "plt.title('Odd number of projections')\n"
   ]
  },
  {
   "cell_type": "markdown",
   "metadata": {},
   "source": [
    "## Finding the sweet number of projections\n",
    "\n",
    "The turntables can only resolve a discrete number of projections. With the added requirement that there shall be an odd number of projections, we will have a very limited number of projections to select from. These are called the sweet numbers."
   ]
  },
  {
   "cell_type": "code",
   "execution_count": 41,
   "metadata": {},
   "outputs": [
    {
     "name": "stdout",
     "output_type": "stream",
     "text": [
      "1\n",
      "5\n",
      "7\n",
      "25\n",
      "35\n",
      "125\n",
      "175\n",
      "625\n",
      "875\n",
      "4375\n"
     ]
    }
   ],
   "source": [
    "N = 280000 # Number of resolved steps\n",
    "Angle = 360 # Trajectory angle\n",
    "\n",
    "for i in np.arange(1,5000,2) :\n",
    "    if (N % i == 0) : # A sweet number has an integer division by the total number of steps\n",
    "        print(i)"
   ]
  },
  {
   "cell_type": "code",
   "execution_count": null,
   "metadata": {
    "collapsed": true,
    "jupyter": {
     "outputs_hidden": true
    }
   },
   "outputs": [],
   "source": []
  }
 ],
 "metadata": {
  "kernelspec": {
   "display_name": "Python 3",
   "language": "python",
   "name": "python3"
  },
  "language_info": {
   "codemirror_mode": {
    "name": "ipython",
    "version": 3
   },
   "file_extension": ".py",
   "mimetype": "text/x-python",
   "name": "python",
   "nbconvert_exporter": "python",
   "pygments_lexer": "ipython3",
   "version": "3.8.3"
  }
 },
 "nbformat": 4,
 "nbformat_minor": 4
}
