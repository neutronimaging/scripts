{
 "cells": [
  {
   "cell_type": "markdown",
   "metadata": {},
   "source": [
    "# Normalization of time series\n",
    "This notebook is used as a starting point for analysing time series of radiography."
   ]
  },
  {
   "cell_type": "markdown",
   "metadata": {},
   "source": [
    "## Set up the workspace"
   ]
  },
  {
   "cell_type": "markdown",
   "metadata": {},
   "source": [
    "### Prerequisites\n",
    "The amglib requires that you have the package tifffile\n",
    "```bash\n",
    "conda install tifffile\n",
    "```"
   ]
  },
  {
   "cell_type": "markdown",
   "metadata": {},
   "source": [
    "### Load some packages"
   ]
  },
  {
   "cell_type": "code",
   "execution_count": 3,
   "metadata": {},
   "outputs": [],
   "source": [
    "import numpy as np\n",
    "import matplotlib.pyplot as plt\n",
    "import amglib.readers as io\n",
    "import amglib.imageutils as amg"
   ]
  },
  {
   "cell_type": "markdown",
   "metadata": {},
   "source": [
    "The next block is only called for development purposes. Normal notebook users don't need it."
   ]
  },
  {
   "cell_type": "code",
   "execution_count": 4,
   "metadata": {},
   "outputs": [
    {
     "data": {
      "text/plain": [
       "<module 'amglib.readers' from '/Users/kaestner/git/scripts/python/amglib/readers.py'>"
      ]
     },
     "execution_count": 4,
     "metadata": {},
     "output_type": "execute_result"
    }
   ],
   "source": [
    "import importlib\n",
    "importlib.reload(amg)\n",
    "importlib.reload(io)"
   ]
  },
  {
   "cell_type": "markdown",
   "metadata": {},
   "source": [
    "## Load the images\n",
    "A typical time series experiment has three data sets\n",
    "- __Sample images__ the image time series you want to analyze\n",
    "- __Open beam images__ a set of images made without any sample in the beam\n",
    "- __Dark current images__ a set of images made with closed shutters\n",
    "\n",
    "The exmaple below reads 10 of each reference image type and averages them into a single image as 'dc' and 'ob'. The sample data is loaded as a 3D image. \n",
    "The file names are provied as a mask where the part _{:05}_ means that file names are generated with five digits and the empty places are padded by zeros. E.g. loading the file with index =42 produces the file name ```sample_00042.fits```."
   ]
  },
  {
   "cell_type": "code",
   "execution_count": null,
   "metadata": {},
   "outputs": [],
   "source": [
    "datapath = '/data/yourdata/'\n",
    "dc=io.readImages(datapath+'dc_{:05}.fits',first=1,last=10,averageStack=True,average='mean');\n",
    "ob=io.readImages(datapath+'ob_{:05}.fits',first=1,last=10,averageStack=True,average='mean');\n",
    "sample=io.readImages(datapath+'sample_{:05}.fits',first=1,last=10)"
   ]
  },
  {
   "cell_type": "markdown",
   "metadata": {},
   "source": [
    "Inspect the loaded images"
   ]
  },
  {
   "cell_type": "code",
   "execution_count": null,
   "metadata": {},
   "outputs": [],
   "source": [
    "fig, ax = plt.subplots(1,3, figsize=(15,6))\n",
    "ax = ax.ravel()\n",
    "\n",
    "\n"
   ]
  }
 ],
 "metadata": {
  "kernelspec": {
   "display_name": "Python 3",
   "language": "python",
   "name": "python3"
  },
  "language_info": {
   "codemirror_mode": {
    "name": "ipython",
    "version": 3
   },
   "file_extension": ".py",
   "mimetype": "text/x-python",
   "name": "python",
   "nbconvert_exporter": "python",
   "pygments_lexer": "ipython3",
   "version": "3.8.3"
  }
 },
 "nbformat": 4,
 "nbformat_minor": 4
}
