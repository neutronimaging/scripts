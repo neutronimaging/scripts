{
 "cells": [
  {
   "cell_type": "markdown",
   "metadata": {},
   "source": [
    "# Normalization of time series\n",
    "This notebook is used as a starting point for analysing time series of radiography."
   ]
  },
  {
   "cell_type": "markdown",
   "metadata": {},
   "source": [
    "## Set up the workspace"
   ]
  },
  {
   "cell_type": "markdown",
   "metadata": {},
   "source": [
    "### Prerequisites\n",
    "The amglib requires that you have the package tifffile\n",
    "```bash\n",
    "conda install tifffile\n",
    "```"
   ]
  },
  {
   "cell_type": "markdown",
   "metadata": {},
   "source": [
    "### Load some packages"
   ]
  },
  {
   "cell_type": "code",
   "execution_count": null,
   "metadata": {},
   "outputs": [],
   "source": [
    "import numpy as np\n",
    "import matplotlib.pyplot as plt\n",
    "import amglib.readers as io\n",
    "import amglib.imageutils as amg"
   ]
  },
  {
   "cell_type": "markdown",
   "metadata": {},
   "source": [
    "The next block is only called for development purposes. Normal notebook users don't need it."
   ]
  },
  {
   "cell_type": "code",
   "execution_count": null,
   "metadata": {},
   "outputs": [],
   "source": [
    "import importlib\n",
    "importlib.reload(amg)\n",
    "importlib.reload(io)"
   ]
  },
  {
   "cell_type": "markdown",
   "metadata": {},
   "source": [
    "## Load the images\n",
    "A typical time series experiment has three data sets\n",
    "- __Sample images__ the image time series you want to analyze\n",
    "- __Open beam images__ a set of images made without any sample in the beam\n",
    "- __Dark current images__ a set of images made with closed shutters\n",
    "\n",
    "The exmaple below reads 10 of each reference image type and averages them into a single image as 'dc' and 'ob'. The sample data is loaded as a 3D image. \n",
    "The file names are provied as a mask where the part _{:05}_ means that file names are generated with five digits and the empty places are padded by zeros. E.g. loading the file with index =42 produces the file name ```sample_00042.fits```.\n",
    "\n",
    "_Please update data path and file masks in the cell below_"
   ]
  },
  {
   "cell_type": "code",
   "execution_count": null,
   "metadata": {},
   "outputs": [],
   "source": [
    "datapath = '/Users/Shared/data/P20180255/00_XCalibration/'\n",
    "dc=io.readImages(datapath+'dc_{:05}.fits',first=1,last=10,averageStack=True,average='mean');\n",
    "ob=io.readImages(datapath+'ob_{:05}.fits',first=1,last=10,averageStack=True,average='mean');\n",
    "sample=io.readImages(datapath+'xcal_{:05}.fits',first=1,last=361,stride=36)"
   ]
  },
  {
   "cell_type": "markdown",
   "metadata": {},
   "source": [
    "Inspect the loaded images"
   ]
  },
  {
   "cell_type": "code",
   "execution_count": null,
   "metadata": {},
   "outputs": [],
   "source": [
    "fig, ax = plt.subplots(1,3, figsize=(15,6))\n",
    "ax = ax.ravel()\n",
    "amg.imshowPercentile(dc,ax[0],factor=1.96)\n",
    "amg.imshowPercentile(ob,ax[1],factor=1.96)\n",
    "amg.imshowPercentile(sample[0],ax[2],factor=1.96)"
   ]
  },
  {
   "cell_type": "markdown",
   "metadata": {},
   "source": [
    "## Process the images"
   ]
  },
  {
   "cell_type": "markdown",
   "metadata": {},
   "source": [
    "### Remove spots\n",
    "Mostly there are several spots (outliers) in neutron images. These have to be removed before doing any further analysis as they may produce _inf_ and _NaN_ valued pixels in the images. The percentage sets the amount of uncorrected pixels."
   ]
  },
  {
   "cell_type": "code",
   "execution_count": null,
   "metadata": {},
   "outputs": [],
   "source": [
    "ob = amg.spotclean(ob,size=5,threshold=0.95)"
   ]
  },
  {
   "cell_type": "markdown",
   "metadata": {},
   "source": [
    "### Normalize\n",
    "The the time series must be normalized using Beer-Lambert law \n",
    "$$I=I_0 e^{-\\int_L\\mu\\,dx}$$\n",
    "before any further analysis. In practice this looks like if you set the ```neglog=True```\n",
    "$$\\int_L \\mu\\,dx = \\frac{D_0}{D}\\cdot\\frac{I_{sample}-I_{dc}}{I_{0}-I_{DC}} $$\n",
    "where _D_ and _D0_ are scalars computed as the average of the doseROI area.\n"
   ]
  },
  {
   "cell_type": "code",
   "execution_count": null,
   "metadata": {},
   "outputs": [],
   "source": [
    "nsample = amg.normalizeImage(sample,ob,dc,neglog=True,doseROI=[200,20,400,100])"
   ]
  },
  {
   "cell_type": "code",
   "execution_count": null,
   "metadata": {},
   "outputs": [],
   "source": [
    "N = 5 # number of images to show \n",
    "\n",
    "if nsample.shape[0]<N :\n",
    "    N = nsample.shape[0]\n",
    "\n",
    "fig,ax = plt.subplots(1,N,figsize=(15,6))\n",
    "ax=ax.ravel()\n",
    "\n",
    "for idx in range(N) :\n",
    "    amg.imshowPercentile(sample[idx],ax[idx],factor=1.96)"
   ]
  },
  {
   "cell_type": "markdown",
   "metadata": {},
   "source": [
    "## Observe relative changes \n",
    "If you want to compare the changes between different sample conditions, you have the following condition\n",
    "- Initial image $I_{t=0}=I_0 e^{-L_{media}\\mu_{media}}$\n",
    "- Image at time _T_ $I_{t=T}=I_0 e^{-(L_{H_2O}\\mu_{H_2O} + L_{media}\\mu_{media})}$\n",
    "\n",
    "Now, to see the releative change in water content you have to compute the following division:\n",
    "$$ L_{H_2O}\\mu_{H_2O} = -\\log\\left(\\frac{I_{t=T}}{I_{t=0}}\\right) = -\\log\\left(\\frac{I_0 e^{-(L_{H_2O}\\mu_{H_2O} + L_{media}\\mu_{media})}}{I_0 e^{-L_{media}\\mu_{media}}}\\right) = L_{H_2O}\\mu_{H_2O} + L_{media}\\mu_{media} - L_{H_2O}\\mu_{H_2O} $$"
   ]
  },
  {
   "cell_type": "code",
   "execution_count": null,
   "metadata": {},
   "outputs": [],
   "source": []
  }
 ],
 "metadata": {
  "kernelspec": {
   "display_name": "Python 3",
   "language": "python",
   "name": "python3"
  },
  "language_info": {
   "codemirror_mode": {
    "name": "ipython",
    "version": 3
   },
   "file_extension": ".py",
   "mimetype": "text/x-python",
   "name": "python",
   "nbconvert_exporter": "python",
   "pygments_lexer": "ipython3",
   "version": "3.7.6"
  }
 },
 "nbformat": 4,
 "nbformat_minor": 4
}
