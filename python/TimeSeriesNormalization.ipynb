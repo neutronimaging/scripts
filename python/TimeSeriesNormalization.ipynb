{
 "cells": [
  {
   "cell_type": "markdown",
   "metadata": {},
   "source": [
    "# Normalization of time series\n",
    "This notebook is used as a starting point for analysing time series of radiography. \n",
    "\n",
    "__Disclaimer__: This procedure does not use the normalization scheme that includes black bodies. Therefore, there will be a bias in the water content calculations which predicts lower water contents than a gravimetric mesurement."
   ]
  },
  {
   "cell_type": "markdown",
   "metadata": {},
   "source": [
    "## Set up the workspace"
   ]
  },
  {
   "cell_type": "markdown",
   "metadata": {},
   "source": [
    "### Prerequisites\n",
    "The amglib requires that you have the package tifffile\n",
    "```bash\n",
    "conda install tifffile\n",
    "```"
   ]
  },
  {
   "cell_type": "markdown",
   "metadata": {},
   "source": [
    "### Load some packages"
   ]
  },
  {
   "cell_type": "code",
   "execution_count": null,
   "metadata": {},
   "outputs": [],
   "source": [
    "import numpy as np\n",
    "import matplotlib.pyplot as plt\n",
    "import amglib.readers as io\n",
    "import amglib.imageutils as amg"
   ]
  },
  {
   "cell_type": "markdown",
   "metadata": {},
   "source": [
    "The next block is only called for development purposes. Normal notebook users don't need it."
   ]
  },
  {
   "cell_type": "code",
   "execution_count": 35,
   "metadata": {},
   "outputs": [
    {
     "data": {
      "text/plain": [
       "<module 'amglib.readers' from '/Users/kaestner/git/scripts/python/amglib/readers.py'>"
      ]
     },
     "execution_count": 35,
     "metadata": {},
     "output_type": "execute_result"
    }
   ],
   "source": [
    "import importlib\n",
    "importlib.reload(amg)\n",
    "importlib.reload(io)"
   ]
  },
  {
   "cell_type": "markdown",
   "metadata": {},
   "source": [
    "## Load the images\n",
    "A typical time series experiment has three data sets\n",
    "- __Sample images__ the image time series you want to analyze\n",
    "- __Open beam images__ a set of images made without any sample in the beam\n",
    "- __Dark current images__ a set of images made with closed shutters\n",
    "\n",
    "The exmaple below reads 10 of each reference image type and averages them into a single image as 'dc' and 'ob'. The sample data is loaded as a 3D image. \n",
    "The file names are provied as a mask where the part _{:05}_ means that file names are generated with five digits and the empty places are padded by zeros. E.g. loading the file with index =42 produces the file name ```sample_00042.fits```.\n",
    "\n",
    "_Please update data path and file masks in the cell below_"
   ]
  },
  {
   "cell_type": "code",
   "execution_count": null,
   "metadata": {},
   "outputs": [],
   "source": [
    "datapath = '/Users/Shared/data/P20180255/00_XCalibration/'\n",
    "dc=io.readImages(datapath+'dc_{:05}.fits',first=1,last=10,averageStack=True,average='mean');\n",
    "ob=io.readImages(datapath+'ob_{:05}.fits',first=1,last=10,averageStack=True,average='mean');\n",
    "sample=io.readImages(datapath+'xcal_{:05}.fits',first=1,last=361,stride=36)"
   ]
  },
  {
   "cell_type": "markdown",
   "metadata": {},
   "source": [
    "Inspect the loaded images"
   ]
  },
  {
   "cell_type": "code",
   "execution_count": null,
   "metadata": {},
   "outputs": [],
   "source": [
    "fig, ax = plt.subplots(1,3, figsize=(15,6))\n",
    "ax = ax.ravel()\n",
    "amg.imshowPercentile(dc,ax[0],factor=1.96)\n",
    "amg.imshowPercentile(ob,ax[1],factor=1.96)\n",
    "amg.imshowPercentile(sample[0],ax[2],factor=1.96)"
   ]
  },
  {
   "cell_type": "markdown",
   "metadata": {},
   "source": [
    "## Process the images"
   ]
  },
  {
   "cell_type": "markdown",
   "metadata": {},
   "source": [
    "### Remove spots\n",
    "Mostly there are several spots (outliers) in neutron images. These have to be removed before doing any further analysis as they may produce _inf_ and _NaN_ valued pixels in the images. The percentage sets the amount of uncorrected pixels."
   ]
  },
  {
   "cell_type": "code",
   "execution_count": null,
   "metadata": {},
   "outputs": [],
   "source": [
    "ob = amg.spotclean(ob,size=5,threshold=0.95) # you can probably set the threshold to 0.99 for OB and DC, \n",
    "                                             # in particular if you use average='median' while loading these images.\n",
    "dc = amg.spotclean(dc,size=5,threshold=0.95)\n",
    "\n",
    "sample = \n"
   ]
  },
  {
   "cell_type": "markdown",
   "metadata": {},
   "source": [
    "### Normalize\n",
    "The the time series must be normalized using Beer-Lambert law \n",
    "$$I=I_0 e^{-\\int_L\\mu\\,dx}$$\n",
    "before any further analysis. In practice this looks like if you set the ```neglog=True```\n",
    "$$\\int_L \\mu\\,dx = -\\log\\left(\\frac{D_0}{D}\\cdot\\frac{I_{sample}-I_{dc}}{I_{0}-I_{DC}}\\right) $$\n",
    "where _D_ and _D0_ are scalars computed as the average of the doseROI area.\n"
   ]
  },
  {
   "cell_type": "code",
   "execution_count": null,
   "metadata": {},
   "outputs": [],
   "source": [
    "nsample = amg.normalizeImage(sample,ob,dc,neglog=True,doseROI=[200,20,400,100])"
   ]
  },
  {
   "cell_type": "code",
   "execution_count": null,
   "metadata": {},
   "outputs": [],
   "source": [
    "N = 5 # number of images to show \n",
    "\n",
    "if nsample.shape[0]<N :\n",
    "    N = nsample.shape[0]\n",
    "\n",
    "fig,ax = plt.subplots(1,N,figsize=(15,6))\n",
    "ax=ax.ravel()\n",
    "\n",
    "for idx in range(N) :\n",
    "    amg.imshowPercentile(sample[idx],ax[idx],factor=1.96)"
   ]
  },
  {
   "cell_type": "markdown",
   "metadata": {},
   "source": [
    "## Observe relative changes \n",
    "If you want to compare the changes between different sample conditions, you have the following condition\n",
    "- Initial image $I_{t=0}=I_0 e^{-L_{media}\\mu_{media}}$\n",
    "- Image at time _T_ $I_{t=T}=I_0 e^{-(L_{H_2O}\\mu_{H_2O} + L_{media}\\mu_{media})}$\n",
    "\n",
    "Now, to see the releative change in water content you have to compute the following division:\n",
    "$$ L_{H_2O}\\mu_{H_2O} = -\\log\\left(\\frac{I_{t=T}}{I_{t=0}}\\right) = -\\log\\left(\\frac{I_0 e^{-(L_{H_2O}\\mu_{H_2O} + L_{media}\\mu_{media})}}{I_0 e^{-L_{media}\\mu_{media}}}\\right) = L_{H_2O}\\mu_{H_2O} + L_{media}\\mu_{media} - L_{H_2O}\\mu_{H_2O} $$\n",
    "\n",
    "The last step in quantifying the water content is to divide $L_{H_2O}\\mu_{H_2O}$ by $\\mu_{H_2O}$, which gives you the thickness of water for each pixel. The water volume is computed using the pixel area and $L_{H_2O}$.\n",
    "\n",
    "__Note__: As you can see, this procedure could also be done without normalizing first. It is however good practice to perform the normalization before referencing. In particular, when you intend to use scattering correction in the future."
   ]
  },
  {
   "cell_type": "markdown",
   "metadata": {},
   "source": [
    "### Provide some information for the referencing"
   ]
  },
  {
   "cell_type": "code",
   "execution_count": null,
   "metadata": {},
   "outputs": [],
   "source": [
    "pixelSize = 100 # microns\n",
    "mu_H2O    = 3.  # cm^-1 (this needs to be updated)\n",
    "\n",
    "initialImg = nsample[0] # here, we use the first image in the time series as reference"
   ]
  },
  {
   "cell_type": "markdown",
   "metadata": {},
   "source": [
    "### Reference all sample images"
   ]
  },
  {
   "cell_type": "code",
   "execution_count": null,
   "metadata": {},
   "outputs": [],
   "source": [
    "H2O = np.zeros(nsample.shape)\n",
    "\n",
    "for idx in range(nsample.shape[0]) :\n",
    "    H2O[idx] = nsample[idx] - initialImg"
   ]
  },
  {
   "cell_type": "markdown",
   "metadata": {},
   "source": [
    "### Compute local water content\n",
    "The image ```H2O``` now contains the optical thickness of the sample. As the last step, we now need to rescale the values to local water content."
   ]
  },
  {
   "cell_type": "code",
   "execution_count": null,
   "metadata": {},
   "outputs": [],
   "source": [
    "pixelArea = pixelSize * pixelSize * 10e-8 # The scaling is needed to bring the area to cm^2\n",
    "\n",
    "H2O = H2O/mu_H2O * pixelArea"
   ]
  },
  {
   "cell_type": "markdown",
   "metadata": {},
   "source": [
    "## Your analysis follows here"
   ]
  },
  {
   "cell_type": "code",
   "execution_count": null,
   "metadata": {},
   "outputs": [],
   "source": []
  }
 ],
 "metadata": {
  "kernelspec": {
   "display_name": "Python 3",
   "language": "python",
   "name": "python3"
  },
  "language_info": {
   "codemirror_mode": {
    "name": "ipython",
    "version": 3
   },
   "file_extension": ".py",
   "mimetype": "text/x-python",
   "name": "python",
   "nbconvert_exporter": "python",
   "pygments_lexer": "ipython3",
   "version": "3.7.8"
  }
 },
 "nbformat": 4,
 "nbformat_minor": 4
}
