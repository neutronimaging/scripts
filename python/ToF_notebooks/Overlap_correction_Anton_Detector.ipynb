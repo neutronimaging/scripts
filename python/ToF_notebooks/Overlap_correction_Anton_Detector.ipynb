{
 "cells": [
  {
   "cell_type": "markdown",
   "metadata": {},
   "source": [
    "# Overlap correction\n",
    "    \n"
   ]
  },
  {
   "cell_type": "markdown",
   "metadata": {
    "ExecuteTime": {
     "end_time": "2018-10-12T10:47:49.131225Z",
     "start_time": "2018-10-12T10:47:49.127800Z"
    }
   },
   "source": [
    "TODO:\n",
    "- read a complete dataset\n",
    "- read txt file\n",
    "- apply the correction"
   ]
  },
  {
   "cell_type": "code",
   "execution_count": 196,
   "metadata": {
    "ExecuteTime": {
     "end_time": "2018-10-12T16:35:54.769322Z",
     "start_time": "2018-10-12T16:35:54.763006Z"
    },
    "collapsed": true
   },
   "outputs": [],
   "source": [
    "import glob,sys,os\n",
    "import pandas as pd\n",
    "import matplotlib.pyplot as plt\n",
    "from IPython.display import display, HTML\n",
    "import numpy as np\n",
    "%matplotlib inline\n",
    "from astropy.io import fits\n"
   ]
  },
  {
   "cell_type": "code",
   "execution_count": 198,
   "metadata": {
    "ExecuteTime": {
     "end_time": "2018-10-12T16:36:11.918094Z",
     "start_time": "2018-10-12T16:36:11.891939Z"
    },
    "collapsed": false
   },
   "outputs": [
    {
     "data": {
      "text/plain": [
       "['/data/data2/RADEN_Feb2018/04_i_OB/TEST5_066/TEST5_066_ShutterCount.txt',\n",
       " '/data/data2/RADEN_Feb2018/04_i_OB/TEST5_066/TEST5_066_ShutterTimes.txt',\n",
       " '/data/data2/RADEN_Feb2018/04_i_OB/TEST5_066/TEST5_066_Spectra.txt',\n",
       " '/data/data2/RADEN_Feb2018/04_i_OB/TEST5_066/TEST5_066_Status.txt']"
      ]
     },
     "metadata": {},
     "output_type": "display_data"
    }
   ],
   "source": [
    "%pwd\n",
    "folder = '/data/data2/RADEN_Feb2018/04_i_OB/TEST5_066'\n",
    "folder_output = '/data/data2/RADEN_Feb2018/04_i_OB/TEST5_066/Corrected_withPandas'\n",
    "sorted_fits= sorted(glob.glob(folder+'/*.fits'))[:-2]\n",
    "sorted_TXT= sorted(glob.glob(folder+'/*.txt'))\n",
    "display(sorted_TXT)\n",
    "num_windows = 5\n",
    "\n",
    "if not os.path.exists(folder_output):\n",
    "    os.makedirs(folder_output)"
   ]
  },
  {
   "cell_type": "code",
   "execution_count": 136,
   "metadata": {
    "ExecuteTime": {
     "end_time": "2018-10-12T16:05:21.827817Z",
     "start_time": "2018-10-12T16:05:21.585287Z"
    },
    "collapsed": false,
    "scrolled": true
   },
   "outputs": [
    {
     "data": {
      "text/html": [
       "<div>\n",
       "<table border=\"1\" class=\"dataframe\">\n",
       "  <thead>\n",
       "    <tr style=\"text-align: right;\">\n",
       "      <th></th>\n",
       "      <th>Counts</th>\n",
       "    </tr>\n",
       "  </thead>\n",
       "  <tbody>\n",
       "    <tr>\n",
       "      <th>0</th>\n",
       "      <td>78847</td>\n",
       "    </tr>\n",
       "    <tr>\n",
       "      <th>1</th>\n",
       "      <td>79115</td>\n",
       "    </tr>\n",
       "    <tr>\n",
       "      <th>2</th>\n",
       "      <td>79659</td>\n",
       "    </tr>\n",
       "    <tr>\n",
       "      <th>3</th>\n",
       "      <td>79293</td>\n",
       "    </tr>\n",
       "    <tr>\n",
       "      <th>4</th>\n",
       "      <td>79086</td>\n",
       "    </tr>\n",
       "  </tbody>\n",
       "</table>\n",
       "</div>"
      ],
      "text/plain": [
       "   Counts\n",
       "0   78847\n",
       "1   79115\n",
       "2   79659\n",
       "3   79293\n",
       "4   79086"
      ]
     },
     "metadata": {},
     "output_type": "display_data"
    },
    {
     "data": {
      "text/plain": [
       "array([ 0.007     ,  0.00180224,  0.00031808,  0.003072  ,  0.000348  ,\n",
       "        0.00305152,  0.00034848,  0.00606208,  0.00033792,  0.0136397 ])"
      ]
     },
     "metadata": {},
     "output_type": "display_data"
    },
    {
     "name": "stdout",
     "output_type": "stream",
     "text": [
      "0.007\n",
      "0.00180224\n",
      "0.00031808\n",
      "0.003072\n",
      "0.000348\n",
      "0.00305152\n",
      "0.00034848\n",
      "0.00606208\n",
      "0.00033792\n",
      "0.0136397\n"
     ]
    },
    {
     "data": {
      "image/png": "[encoded data removed]",
      "text/plain": [
       "<matplotlib.figure.Figure at 0x7f587f122810>"
      ]
     },
     "metadata": {},
     "output_type": "display_data"
    },
    {
     "data": {
      "text/plain": [
       "array([ 0.007     ,  0.00880224,  0.00912032,  0.01219232,  0.01254032,\n",
       "        0.01559184,  0.01594032,  0.0220024 ,  0.02234032,  0.03598002])"
      ]
     },
     "metadata": {},
     "output_type": "display_data"
    },
    {
     "data": {
      "text/plain": [
       "{0: (0.0069999999999999993, 0.0088022399999999994),\n",
       " 1: (0.0091203199999999995, 0.01219232),\n",
       " 2: (0.012540319999999999, 0.015591839999999999),\n",
       " 3: (0.015940320000000001, 0.022002400000000002),\n",
       " 4: (0.02234032, 0.035980020000000001)}"
      ]
     },
     "metadata": {},
     "output_type": "display_data"
    },
    {
     "data": {
      "text/plain": [
       "(4, 79086)"
      ]
     },
     "execution_count": 136,
     "metadata": {},
     "output_type": "execute_result"
    }
   ],
   "source": [
    "df = pd.read_csv( '/data/data2/RADEN_Feb2018/04_i_OB/TEST5_066/TEST5_066_Spectra.txt',delim_whitespace=True,header=None,\n",
    "                names=['Time','Spectra'])\n",
    "df['diff']=df['Time'].diff()\n",
    "df['Spectra']= df['Spectra']/df['Spectra'].max()\n",
    "df['diff']= df['diff']/df['diff'].max()\n",
    "\n",
    "df_shutterTime = pd.read_csv('/data/data2/RADEN_Feb2018/04_i_OB/TEST5_066/TEST5_066_ShutterTimes.txt',delim_whitespace=True,header=None,\n",
    "                             names=['t0','t1'], nrows=num_windows)\n",
    "\n",
    "df_shutterCount = pd.read_csv('/data/data2/RADEN_Feb2018/04_i_OB/TEST5_066/TEST5_066_ShutterCount.txt',delim_whitespace=True,header=None,\n",
    "                             names=['Counts'], nrows=num_windows, index_col=0)\n",
    "\n",
    "display(df_shutterCount)\n",
    "\n",
    "\n",
    "df_shutterTime=np.asarray(df_shutterTime.stack(level=[0]))\n",
    "\n",
    "display(df_shutterTime)\n",
    "df.plot(x='Time',y=['Spectra','diff'],grid=True,figsize=(8,6))\n",
    "sumTime = 0\n",
    "TimeArray = np.zeros(num_windows*2)\n",
    "index=0\n",
    "for i in df_shutterTime:\n",
    "    print(i)\n",
    "    sumTime += i\n",
    "    TimeArray[index] = sumTime\n",
    "    index += 1\n",
    "    plt.axvline(x=sumTime)\n",
    "\n",
    "\n",
    "plt.show()\n",
    "display(TimeArray)\n",
    "interval = {int(key):(value1,value2) for key,value1,value2 in zip(range(len(TimeArray)),TimeArray[::2],TimeArray[1::2])}\n",
    "display(interval)\n",
    "def interAssig(value,intervalDict,df_shutterCount):\n",
    "    for keyInt in intervalDict:\n",
    "        if intervalDict[keyInt][0]<= value <=intervalDict[keyInt][1]:\n",
    "            return keyInt,df_shutterCount['Counts'][keyInt]\n",
    "interAssig(0.0271,interval,df_shutterCount)"
   ]
  },
  {
   "cell_type": "code",
   "execution_count": 201,
   "metadata": {
    "ExecuteTime": {
     "end_time": "2018-10-12T16:46:29.711939Z",
     "start_time": "2018-10-12T16:46:20.655996Z"
    },
    "collapsed": false,
    "scrolled": false
   },
   "outputs": [
    {
     "data": {
      "text/plain": [
       "78847"
      ]
     },
     "metadata": {},
     "output_type": "display_data"
    },
    {
     "data": {
      "text/plain": [
       "(0, 78847)"
      ]
     },
     "metadata": {},
     "output_type": "display_data"
    },
    {
     "data": {
      "text/plain": [
       "(1, 79115)"
      ]
     },
     "metadata": {},
     "output_type": "display_data"
    },
    {
     "data": {
      "text/plain": [
       "(2, 79659)"
      ]
     },
     "metadata": {},
     "output_type": "display_data"
    },
    {
     "data": {
      "text/plain": [
       "(3, 79293)"
      ]
     },
     "metadata": {},
     "output_type": "display_data"
    },
    {
     "data": {
      "text/plain": [
       "(4, 79086)"
      ]
     },
     "metadata": {},
     "output_type": "display_data"
    }
   ],
   "source": [
    "dfName = pd.DataFrame(sorted_fits,columns=['name'])\n",
    "dfName['ToF'] = df['Time']\n",
    "dfName['ShutterWindow']= dfName['ToF'].apply(lambda i:interAssig(i,interval,df_shutterCount))\n",
    "\n",
    "display(dfName.iloc[0,2][1])\n",
    "\n",
    "# display(dfName)\n",
    "\n",
    "for i in dfName.groupby('ShutterWindow'):\n",
    "    display(i[0])\n",
    "    array = i[1]['name'].apply(lambda i:fits.open(i)[0].data).as_matrix()\n",
    "#     array = array.reshape(len(array),np.shape(array[0])[0],np.shape(array[0])[1])\n",
    "#     display(type(array),np.shape(array))\n",
    "    sumim=np.zeros(np.shape(array[0]))\n",
    "    \n",
    "    for j in range(0,len(array)):\n",
    "        sumim+=array[j]\n",
    "#         display(sumim)\n",
    "        \n",
    "        if j==0:\n",
    "            P=0\n",
    "        else:\n",
    "            P=sumim/i[0][1]\n",
    "            \n",
    "        newim = array[j]/(1-P)\n",
    "        newim= newim.astype(float)\n",
    "        fits.writeto(folder_output+'/'+str(i[0][0])+str(j).zfill(5)+'.fits',newim)\n",
    "        \n",
    "        \n",
    "        \n",
    "\n",
    "    "
   ]
  },
  {
   "cell_type": "code",
   "execution_count": 106,
   "metadata": {
    "ExecuteTime": {
     "end_time": "2018-10-12T15:41:47.302008Z",
     "start_time": "2018-10-12T15:41:47.281398Z"
    },
    "collapsed": false
   },
   "outputs": [
    {
     "data": {
      "text/plain": [
       "[<astropy.io.fits.hdu.image.PrimaryHDU object at 0x7f587ef190d0>]"
      ]
     },
     "execution_count": 106,
     "metadata": {},
     "output_type": "execute_result"
    }
   ],
   "source": []
  },
  {
   "cell_type": "code",
   "execution_count": null,
   "metadata": {
    "collapsed": true
   },
   "outputs": [],
   "source": []
  }
 ],
 "metadata": {
  "kernelspec": {
   "display_name": "Python 2",
   "language": "python",
   "name": "python2"
  },
  "language_info": {
   "codemirror_mode": {
    "name": "ipython",
    "version": 2
   },
   "file_extension": ".py",
   "mimetype": "text/x-python",
   "name": "python",
   "nbconvert_exporter": "python",
   "pygments_lexer": "ipython2",
   "version": "2.7.12"
  },
  "varInspector": {
   "cols": {
    "lenName": 16,
    "lenType": 16,
    "lenVar": 40
   },
   "kernels_config": {
    "python": {
     "delete_cmd_postfix": "",
     "delete_cmd_prefix": "del ",
     "library": "var_list.py",
     "varRefreshCmd": "print(var_dic_list())"
    },
    "r": {
     "delete_cmd_postfix": ") ",
     "delete_cmd_prefix": "rm(",
     "library": "var_list.r",
     "varRefreshCmd": "cat(var_dic_list()) "
    }
   },
   "position": {
    "height": "1189px",
    "left": "1971.5px",
    "right": "-469.833px",
    "top": "407px",
    "width": "800px"
   },
   "types_to_exclude": [
    "module",
    "function",
    "builtin_function_or_method",
    "instance",
    "_Feature"
   ],
   "window_display": true
  }
 },
 "nbformat": 4,
 "nbformat_minor": 2
}
