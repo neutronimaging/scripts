{
 "cells": [
  {
   "cell_type": "markdown",
   "metadata": {},
   "source": [
    "# Notebook for generating shutterfiles\n",
    "## Setting inputs: length of flight path, t offset and repetition frequency\n",
    "## Inputs for the shutter file generation: number of windows, and, for each window, tof/wavelength start-end and bin size "
   ]
  },
  {
   "cell_type": "code",
   "execution_count": 21,
   "metadata": {
    "collapsed": true
   },
   "outputs": [],
   "source": [
    "import numpy as np\n",
    "import matplotlib\n",
    "import matplotlib.pyplot as plt\n",
    "import os\n",
    "import csv\n",
    "import sys\n",
    "#%matplotlib notebook\n",
    "%matplotlib inline"
   ]
  },
  {
   "cell_type": "code",
   "execution_count": 22,
   "metadata": {
    "collapsed": true
   },
   "outputs": [],
   "source": [
    "L=56.4 #in meters\n",
    "t0=0.01 #in ms\n",
    "f=10 #in Hz\n",
    "t2overlap=1000/f #in ms"
   ]
  },
  {
   "cell_type": "code",
   "execution_count": 23,
   "metadata": {
    "collapsed": true
   },
   "outputs": [],
   "source": [
    "# function to convert tof to lambda\n",
    "def tof2l(tof):\n",
    "    l=3.956*(tof-t0)/L\n",
    "    return l"
   ]
  },
  {
   "cell_type": "code",
   "execution_count": 24,
   "metadata": {
    "collapsed": true
   },
   "outputs": [],
   "source": [
    "# function to convert lambda to tof\n",
    "def l2tof(l):\n",
    "    tof=t0+l*L/3.956\n",
    "    return tof"
   ]
  },
  {
   "cell_type": "code",
   "execution_count": 25,
   "metadata": {
    "collapsed": true
   },
   "outputs": [],
   "source": [
    "# number of acquisition windows\n",
    "#n_windows=input(\"Enter the number of acquisition window: \")\n",
    "n_windows=4; # REMOVE THIS AFTER DEBUG\n",
    "windows=np.zeros((n_windows,2))"
   ]
  },
  {
   "cell_type": "code",
   "execution_count": 26,
   "metadata": {
    "scrolled": true
   },
   "outputs": [
    {
     "name": "stdout",
     "output_type": "stream",
     "text": [
      "[[14.26682508 34.93922144]\n",
      " [35.65206269 47.05752275]\n",
      " [47.770364   65.59139535]\n",
      " [66.3042366  85.55095046]]\n"
     ]
    }
   ],
   "source": [
    "# REMOVE THE WHOLE SECTION AFTER DEBUG\n",
    "windows[0][0]=l2tof(1)\n",
    "windows[0][1]=l2tof(2.45)\n",
    "\n",
    "windows[1][0]=l2tof(2.5)\n",
    "windows[1][1]=l2tof(3.3)\n",
    "\n",
    "windows[2][0]=l2tof(3.35)\n",
    "windows[2][1]=l2tof(4.6)\n",
    "\n",
    "windows[3][0]=l2tof(4.65)\n",
    "windows[3][1]=l2tof(6)\n",
    "\n",
    "print(windows)\n",
    "\n",
    "#windows[4][0]=22.34\n",
    "#windows[4][1]=36"
   ]
  },
  {
   "cell_type": "code",
   "execution_count": 27,
   "metadata": {
    "scrolled": true
   },
   "outputs": [
    {
     "name": "stdout",
     "output_type": "stream",
     "text": [
      "delta tof:\n",
      "[20.67239636 11.40546006 17.82103134 19.24671385]\n"
     ]
    }
   ],
   "source": [
    "# Windows durations\n",
    "delta_tof=windows[:,1]-windows[:,0]\n",
    "print(\"delta tof:\")\n",
    "print(delta_tof)"
   ]
  },
  {
   "cell_type": "code",
   "execution_count": 28,
   "metadata": {},
   "outputs": [
    {
     "name": "stdout",
     "output_type": "stream",
     "text": [
      "clock frequency:\n",
      "[100.  50.  25.  12.   6.   3.   1.   0.   0.   0.   0.   0.   0.   0.]\n",
      "clock time:\n",
      "[1.000e-05 2.000e-05 4.000e-05 8.000e-05 1.600e-04 3.200e-04 6.400e-04\n",
      " 1.280e-03 2.560e-03 5.120e-03 1.024e-02 2.048e-02 4.096e-02 8.192e-02]\n",
      "range covered:\n",
      "[1.18000e-01 2.36000e-01 4.72000e-01 9.44000e-01 1.88800e+00 3.77600e+00\n",
      " 7.55200e+00 1.51040e+01 3.02080e+01 6.04160e+01 1.20832e+02 2.41664e+02\n",
      " 4.83328e+02 9.66656e+02]\n"
     ]
    }
   ],
   "source": [
    "clock_frequency=np.zeros((14))\n",
    "clock_divider=np.zeros((n_windows))\n",
    "clock_time=np.zeros((14))\n",
    "for i in range (0,14):\n",
    "    clock_frequency[i]=100/(2**i)\n",
    "    clock_time[i]=0.00001*(2**i)\n",
    "    #clock_divider[i]=i\n",
    "range_covered=11800*clock_time\n",
    "print(\"clock frequency:\")\n",
    "print(clock_frequency)\n",
    "print(\"clock time:\")\n",
    "print(clock_time)\n",
    "#print(clock_divider)\n",
    "print(\"range covered:\")\n",
    "print(range_covered)\n"
   ]
  },
  {
   "cell_type": "code",
   "execution_count": 29,
   "metadata": {
    "scrolled": true
   },
   "outputs": [
    {
     "name": "stdout",
     "output_type": "stream",
     "text": [
      "clock divider:\n",
      "[8. 7. 8. 8.]\n"
     ]
    }
   ],
   "source": [
    "for i in range (0,n_windows):\n",
    "    for j in range (0,14):\n",
    "            if delta_tof[i]<range_covered[j]:\n",
    "                clock_divider[i]=j\n",
    "                break\n",
    "print(\"clock divider:\")\n",
    "print(clock_divider)\n",
    "    "
   ]
  },
  {
   "cell_type": "code",
   "execution_count": 30,
   "metadata": {},
   "outputs": [
    {
     "data": {
      "text/plain": [
       "0.00256"
      ]
     },
     "execution_count": 30,
     "metadata": {},
     "output_type": "execute_result"
    }
   ],
   "source": [
    "clock_time[int(clock_divider[2])]"
   ]
  },
  {
   "cell_type": "code",
   "execution_count": 31,
   "metadata": {},
   "outputs": [
    {
     "name": "stdout",
     "output_type": "stream",
     "text": [
      "[40.96 20.48 20.48 40.96]\n"
     ]
    }
   ],
   "source": [
    "# Bin width. THIS IS AN INPUT\n",
    "bin_width=np.zeros((n_windows));\n",
    "        \n",
    "bin_width[0]=40.96\n",
    "bin_width[1]=20.48\n",
    "bin_width[2]=20.48\n",
    "bin_width[3]=40.96\n",
    "#bin_width[4]=40.96\n",
    "\n",
    "print(bin_width)"
   ]
  },
  {
   "cell_type": "code",
   "execution_count": 32,
   "metadata": {
    "scrolled": true
   },
   "outputs": [
    {
     "name": "stdout",
     "output_type": "stream",
     "text": [
      "[0.71284125 0.71284125 0.71284125]\n"
     ]
    }
   ],
   "source": [
    "# Shutter duration\n",
    "n_shutter=n_windows-1\n",
    "duration=np.zeros((n_shutter))\n",
    "for i in range (0,n_shutter):\n",
    "    duration[i]=windows[i+1][0]-windows[i][1]\n",
    "print(duration)"
   ]
  },
  {
   "cell_type": "code",
   "execution_count": 33,
   "metadata": {},
   "outputs": [
    {
     "name": "stdout",
     "output_type": "stream",
     "text": [
      "[0.28709962 0.05744408 0.04287177 0.06177584]\n",
      "[0.11723215 0.0435212  0.03122361 0.0478779 ]\n"
     ]
    }
   ],
   "source": [
    "# Resolution calculation\n",
    "min_res=bin_width*0.001/windows[:,0]\n",
    "max_res=bin_width*0.001/windows[:,1]\n",
    "print(min_res*100)\n",
    "print(max_res*100)"
   ]
  },
  {
   "cell_type": "code",
   "execution_count": 34,
   "metadata": {},
   "outputs": [
    {
     "name": "stdout",
     "output_type": "stream",
     "text": [
      "Number of file produced: \n",
      "2403.0\n",
      "Number of fiels\n",
      "[505. 557. 871. 470.]\n"
     ]
    }
   ],
   "source": [
    "# calculation of the number of file and space needed\n",
    "no_file=np.ceil(delta_tof*1000/bin_width);\n",
    "tot_file=np.sum(no_file)\n",
    "print(\"Number of file produced: \")\n",
    "print(tot_file)\n",
    "print(\"Number of fiels\")\n",
    "print(no_file)"
   ]
  },
  {
   "cell_type": "code",
   "execution_count": 35,
   "metadata": {
    "collapsed": true
   },
   "outputs": [],
   "source": [
    "#base_path = \"/path/to/directory/holding/file/\"\n",
    "filename = \"alpha.txt\"\n",
    "filename2= \"lambda.txt\"\n",
    "#path_to_file = os.path.join(base_path, filename)\n",
    "#fd = open(path_to_file , 'r')\n",
    "fp = open(filename , 'r')\n",
    "fp2 = open(filename2, 'r')\n",
    "#spectrum=csv.reader(fp, delimiter=\"\\t\")"
   ]
  },
  {
   "cell_type": "code",
   "execution_count": 36,
   "metadata": {
    "collapsed": true
   },
   "outputs": [],
   "source": [
    "#data = np.genfromtxt(filename, delimiter = '\\t', skip_header=1)\n",
    "data = np.genfromtxt(filename)\n",
    "l = np.genfromtxt(filename2)"
   ]
  },
  {
   "cell_type": "code",
   "execution_count": 37,
   "metadata": {
    "collapsed": true
   },
   "outputs": [],
   "source": [
    "#type(data)\n",
    "y=data.T\n",
    "x =l.T\n",
    "\n",
    "#x_axis=x(0)\n",
    "#y_axis=y(0)\n",
    "#np.delete(x,0)\n",
    "#np.delete(y,0)"
   ]
  },
  {
   "cell_type": "code",
   "execution_count": 47,
   "metadata": {},
   "outputs": [
    {
     "data": {
      "text/plain": [
       "Text(0.5,1,u'Theoretical Iron spectrum with overimposed windows')"
      ]
     },
     "execution_count": 47,
     "metadata": {},
     "output_type": "execute_result"
    },
    {
     "data": {
      "image/png": "[encoded data removed]",
      "text/plain": [
       "<matplotlib.figure.Figure at 0x1077fad90>"
      ]
     },
     "metadata": {},
     "output_type": "display_data"
    }
   ],
   "source": [
    "\n",
    "for i in range (0,n_windows):\n",
    "    win_plot_x_1=(windows[i][0],windows[i][0])\n",
    "    win_plot_y_1=(min(y),max(y))\n",
    "    plt.plot(win_plot_x_1,win_plot_y_1,'r-')\n",
    "    win_plot_x_2=(windows[i][1],windows[i][1])\n",
    "    win_plot_y_2=(min(y),max(y))\n",
    "    plt.plot(win_plot_x_2,win_plot_y_2,'r-')\n",
    "plt.plot(l2tof(x),y)\n",
    "plt.title(\"Theoretical Iron spectrum with overimposed windows\")\n",
    "   \n"
   ]
  },
  {
   "cell_type": "code",
   "execution_count": 41,
   "metadata": {},
   "outputs": [],
   "source": [
    "#write a txt file for the shutter\n",
    "filename_out = 'FileShutter.txt'\n",
    "\n",
    "with open(filename_out, 'w') as f:\n",
    "    for i in range(0,n_windows):\n",
    "            f.write(str(windows[i][0]))\n",
    "            f.write(\"\\t\")\n",
    "            f.write(str(windows[i][1]))\n",
    "            f.write(\"\\t\")\n",
    "            f.write(str(clock_divider[i]))\n",
    "            f.write(\"\\t\")\n",
    "            f.write(str(bin_width[i]))\n",
    "            f.write(\"\\n\")\n"
   ]
  },
  {
   "cell_type": "code",
   "execution_count": null,
   "metadata": {
    "collapsed": true
   },
   "outputs": [],
   "source": []
  }
 ],
 "metadata": {
  "kernelspec": {
   "display_name": "Python 2",
   "language": "python",
   "name": "python2"
  },
  "language_info": {
   "codemirror_mode": {
    "name": "ipython",
    "version": 2
   },
   "file_extension": ".py",
   "mimetype": "text/x-python",
   "name": "python",
   "nbconvert_exporter": "python",
   "pygments_lexer": "ipython2",
   "version": "2.7.14"
  },
  "varInspector": {
   "cols": {
    "lenName": 16,
    "lenType": 16,
    "lenVar": 40
   },
   "kernels_config": {
    "python": {
     "delete_cmd_postfix": "",
     "delete_cmd_prefix": "del ",
     "library": "var_list.py",
     "varRefreshCmd": "print(var_dic_list())"
    },
    "r": {
     "delete_cmd_postfix": ") ",
     "delete_cmd_prefix": "rm(",
     "library": "var_list.r",
     "varRefreshCmd": "cat(var_dic_list()) "
    }
   },
   "oldHeight": 468,
   "position": {
    "height": "490px",
    "left": "1051px",
    "right": "20px",
    "top": "106px",
    "width": "352px"
   },
   "types_to_exclude": [
    "module",
    "function",
    "builtin_function_or_method",
    "instance",
    "_Feature"
   ],
   "varInspector_section_display": "block",
   "window_display": false
  }
 },
 "nbformat": 4,
 "nbformat_minor": 2
}
