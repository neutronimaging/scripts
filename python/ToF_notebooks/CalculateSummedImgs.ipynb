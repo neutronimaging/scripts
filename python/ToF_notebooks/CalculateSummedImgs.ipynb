{
 "cells": [
  {
   "cell_type": "markdown",
   "metadata": {},
   "source": [
    "# In this notebook I create a summed img from an energy resolved scan, thus obtaining the white beam projection, and save the result in some defined folder"
   ]
  },
  {
   "cell_type": "code",
   "execution_count": 1,
   "metadata": {
    "ExecuteTime": {
     "end_time": "2019-01-25T11:06:38.669660Z",
     "start_time": "2019-01-25T11:06:34.840278Z"
    }
   },
   "outputs": [
    {
     "name": "stderr",
     "output_type": "stream",
     "text": [
      "/home/carminati_c/anaconda2/lib/python2.7/site-packages/matplotlib/font_manager.py:273: UserWarning: Matplotlib is building the font cache using fc-list. This may take a moment.\n",
      "  warnings.warn('Matplotlib is building the font cache using fc-list. This may take a moment.')\n"
     ]
    }
   ],
   "source": [
    "import skimage\n",
    "import os, fnmatch\n",
    "import numpy as np\n",
    "import matplotlib.pyplot as plt\n",
    "%matplotlib inline\n",
    "# %matplotlib notebook\n",
    "import pylab\n",
    "import scipy\n",
    "from skimage import io\n",
    "from os import listdir\n",
    "from astropy.io import fits"
   ]
  },
  {
   "cell_type": "code",
   "execution_count": 2,
   "metadata": {
    "ExecuteTime": {
     "end_time": "2019-01-25T11:06:38.681899Z",
     "start_time": "2019-01-25T11:06:38.675883Z"
    }
   },
   "outputs": [
    {
     "name": "stdout",
     "output_type": "stream",
     "text": [
      "/data/data2/Nancy/\n",
      "/data/data2/Nancy/WhiteBeam/\n"
     ]
    }
   ],
   "source": [
    "# rootpath='/data/data2/RADEN_Feb2018/07_TomoA_ARMCO/' #this is the path to be eventually changed\n",
    "# rootpath='/data/data2/RADEN_Feb2018/10_Tomo_Final/' #this is the path to be eventually changed\n",
    "# select rooth and save path \n",
    "rootpath='/data/data2/Nancy/'\n",
    "savepath=rootpath+'WhiteBeam/'\n",
    "#savepath='/data/data2/Nancy/Sum_imgs'\n",
    "print(rootpath)\n",
    "print(savepath)"
   ]
  },
  {
   "cell_type": "code",
   "execution_count": 3,
   "metadata": {
    "ExecuteTime": {
     "end_time": "2019-01-25T11:06:40.359527Z",
     "start_time": "2019-01-25T11:06:40.357087Z"
    }
   },
   "outputs": [],
   "source": [
    "# here I read all folder names \n",
    "coll_dir = fnmatch.filter(listdir(rootpath),'Corrected*')"
   ]
  },
  {
   "cell_type": "code",
   "execution_count": 4,
   "metadata": {
    "ExecuteTime": {
     "end_time": "2019-01-25T11:06:41.662482Z",
     "start_time": "2019-01-25T11:06:41.660209Z"
    }
   },
   "outputs": [],
   "source": [
    "if not os.path.exists(savepath):\n",
    "    os.makedirs(savepath)"
   ]
  },
  {
   "cell_type": "code",
   "execution_count": 13,
   "metadata": {
    "ExecuteTime": {
     "end_time": "2019-01-25T11:10:31.802848Z",
     "start_time": "2019-01-25T11:10:17.261593Z"
    }
   },
   "outputs": [
    {
     "name": "stdout",
     "output_type": "stream",
     "text": [
      "2373\n",
      "/data/data2/Nancy/WhiteBeam/Summed_img__004_0.tif\n",
      "2373\n",
      "/data/data2/Nancy/WhiteBeam/Summed_img__002_0.tif\n"
     ]
    }
   ],
   "source": [
    "for i in range(0, len(coll_dir)):\n",
    "    \n",
    "    #     path= rootpath+coll_dir[i]+'/Corrected/'\n",
    "    path= rootpath+coll_dir[i] +'/'\n",
    "    #     print(path)\n",
    "    #     coll = listdir(path) # this just lists everything   \n",
    "    summed_img = np.zeros([512,512], dtype='>f4')\n",
    "    current_dir = fnmatch.filter(listdir(path),'*.fits')\n",
    "    sorted_dir = sorted(current_dir)\n",
    "\n",
    "    print(len(sorted_dir))\n",
    "    myrange=[0,len(sorted_dir)] # here one has to select which range to use for the summing of the images\n",
    "\n",
    "\n",
    "    for x in range(myrange[0], myrange[1]):\n",
    "        name=path+sorted_dir[x]\n",
    "        #         print(name)\n",
    "        im = fits.open(name)\n",
    "        data=im[0].data\n",
    "        summed_img+= data\n",
    "\n",
    "\n",
    "    io.imsave(savepath+'Summed_img_'+current_dir[0][4:10]+'.tif', summed_img)\n",
    "    #     print(i)\n",
    "    print(savepath+'Summed_img_'+current_dir[0][4:10]+'.tif')\n",
    "\n",
    "\n"
   ]
  },
  {
   "cell_type": "code",
   "execution_count": null,
   "metadata": {
    "collapsed": true
   },
   "outputs": [],
   "source": []
  },
  {
   "cell_type": "code",
   "execution_count": null,
   "metadata": {
    "collapsed": true
   },
   "outputs": [],
   "source": []
  }
 ],
 "metadata": {
  "kernelspec": {
   "display_name": "Python 3",
   "language": "python",
   "name": "python3"
  },
  "language_info": {
   "codemirror_mode": {
    "name": "ipython",
    "version": 3
   },
   "file_extension": ".py",
   "mimetype": "text/x-python",
   "name": "python",
   "nbconvert_exporter": "python",
   "pygments_lexer": "ipython3",
   "version": "3.7.1"
  },
  "varInspector": {
   "cols": {
    "lenName": 16,
    "lenType": 16,
    "lenVar": 40
   },
   "kernels_config": {
    "python": {
     "delete_cmd_postfix": "",
     "delete_cmd_prefix": "del ",
     "library": "var_list.py",
     "varRefreshCmd": "print(var_dic_list())"
    },
    "r": {
     "delete_cmd_postfix": ") ",
     "delete_cmd_prefix": "rm(",
     "library": "var_list.r",
     "varRefreshCmd": "cat(var_dic_list()) "
    }
   },
   "position": {
    "height": "490px",
    "left": "1675.5px",
    "right": "-292.167px",
    "top": "441px",
    "width": "800px"
   },
   "types_to_exclude": [
    "module",
    "function",
    "builtin_function_or_method",
    "instance",
    "_Feature"
   ],
   "window_display": true
  }
 },
 "nbformat": 4,
 "nbformat_minor": 2
}
