{
 "cells": [
  {
   "cell_type": "markdown",
   "metadata": {},
   "source": [
    "# In this notebook I create a summed img from an energy resolved scan, thus obtaining the white beam projection, and save the result in some defined folder"
   ]
  },
  {
   "cell_type": "code",
   "execution_count": 1,
   "metadata": {
    "ExecuteTime": {
     "end_time": "2019-01-25T11:06:38.669660Z",
     "start_time": "2019-01-25T11:06:34.840278Z"
    }
   },
   "outputs": [],
   "source": [
    "import skimage\n",
    "import os, fnmatch\n",
    "import numpy as np\n",
    "import matplotlib.pyplot as plt\n",
    "%matplotlib inline\n",
    "# %matplotlib notebook\n",
    "import pylab\n",
    "import scipy\n",
    "from skimage import io\n",
    "from os import listdir\n",
    "from astropy.io import fits"
   ]
  },
  {
   "cell_type": "code",
   "execution_count": 6,
   "metadata": {
    "ExecuteTime": {
     "end_time": "2019-01-25T11:06:38.681899Z",
     "start_time": "2019-01-25T11:06:38.675883Z"
    }
   },
   "outputs": [
    {
     "name": "stdout",
     "output_type": "stream",
     "text": [
      "/media/carminati_c/Data2/RADEN_Feb2018/07_TomoA_ARMCO/\n",
      "/media/carminati_c/Data2/RADEN_Feb2018/07_TomoA_ARMCO/WhiteBeam/\n"
     ]
    }
   ],
   "source": [
    "rootpath='/media/carminati_c/Data2/RADEN_Feb2018/07_TomoA_ARMCO/' #this is the path to be eventually changed\n",
    "# rootpath='/data/data2/RADEN_Feb2018/10_Tomo_Final/' #this is the path to be eventually changed\n",
    "# select rooth and save path \n",
    "# rootpath='/data/data2/Nancy/'\n",
    "savepath=rootpath+'WhiteBeam/'\n",
    "#savepath='/data/data2/Nancy/Sum_imgs'\n",
    "print(rootpath)\n",
    "print(savepath)"
   ]
  },
  {
   "cell_type": "code",
   "execution_count": 10,
   "metadata": {
    "ExecuteTime": {
     "end_time": "2019-01-25T11:06:40.359527Z",
     "start_time": "2019-01-25T11:06:40.357087Z"
    }
   },
   "outputs": [
    {
     "name": "stdout",
     "output_type": "stream",
     "text": [
      "['TEST8_007', 'TEST8_109', 'TEST8_038', 'TEST8_012', 'TEST8_046', 'TEST8_107', 'TEST8_093', 'TEST8_110', 'TEST8_074', 'TEST8_033', 'TEST8_070', 'TEST8_094', 'TEST8_091', 'TEST8_104', 'Summed_Imgs', 'TEST9_002', 'TEST8_076', 'Summed_Imgs_noCalib', 'TEST8_119', 'TEST8_071', 'TEST8_084', 'TEST8_064', 'TEST8_092', 'TEST8_051', 'TEST8_014', 'TEST8_052', 'TEST8_116', 'TEST9_000', 'TEST8_034', 'TEST8_002', 'TEST8_111', 'TEST8_029', 'TEST8_120', 'TEST8_024', 'TEST8_099', 'TEST8_047', 'TEST8_103', 'TEST8_045', 'TEST8_086', 'TEST8_011', 'Recon_Cropped_FirstSample', 'TEST8_005', 'Recon_Cropped_SecondSample', 'TEST8_003', 'TEST8_022', 'TEST8_023', 'TEST8_097', 'TEST8_039', 'TEST8_067', 'TEST8_020', 'TEST8_035', 'TEST8_060', 'TEST8_044', 'TEST8_001', 'TEST8_088', 'TEST8_106', 'TEST8_081', 'TEST8_059', 'TEST8_114', 'TEST8_037', 'TEST8_112', 'TEST8_025', 'TEST8_069', 'TEST8_021', 'TEST8_016', 'TEST8_096', 'TEST8_032', 'TEST8_050', 'TEST8_030', 'TEST8_118', 'TEST8_006', 'TEST8_057', 'TEST8_090', 'TEST8_055', 'TEST8_065', 'TEST8_054', 'TEST8_053', 'TEST8_078', 'TEST8_080', 'TEST8_058', 'TEST8_105', 'TEST8_043', 'TEST8_049', 'TEST8_098', 'TEST8_066', 'TEST8_061', 'TEST8_042', 'TEST8_009', 'TEST8_027', 'TEST8_113', 'TEST8_072', 'TEST8_028', 'TEST8_089', 'TEST8_010', 'create_copy - Copy.bat', 'TEST8_026', 'TEST8_117', 'TEST8_095', 'TEST8_015', 'TEST8_100', 'TEST8_108', 'TEST8_018', 'TEST8_083', 'create_copy.bat', 'TEST8_068', 'TEST8_102', 'TEST8_087', 'TEST8_040', 'WhiteBeam', 'TEST8_115', 'TEST8_008', 'ReconWhiteBeam', 'TEST8_013', 'Summed_Phase_Img', 'TEST8_062', 'TEST8_048', 'TEST8_031', 'TEST8_085', 'TEST8_036', 'TEST9_001', 'TEST8_075', 'TEST8_073', 'TEST8_056', 'TEST8_017', 'TEST8_004', 'TEST8_079', 'TEST8_063', 'TEST8_121', 'TEST8_101', 'Summed_all_fromDetector', 'TEST8_041', 'TEST8_077', 'TEST8_019', 'TEST8_082', 'TEST8_000']\n"
     ]
    }
   ],
   "source": [
    "# here I read all folder names \n",
    "coll_dir = fnmatch.filter(listdir(rootpath),'*')\n",
    "print(coll_dir)"
   ]
  },
  {
   "cell_type": "code",
   "execution_count": 4,
   "metadata": {
    "ExecuteTime": {
     "end_time": "2019-01-25T11:06:41.662482Z",
     "start_time": "2019-01-25T11:06:41.660209Z"
    }
   },
   "outputs": [],
   "source": [
    "if not os.path.exists(savepath):\n",
    "    os.makedirs(savepath)"
   ]
  },
  {
   "cell_type": "code",
   "execution_count": 13,
   "metadata": {
    "ExecuteTime": {
     "end_time": "2019-01-25T11:10:31.802848Z",
     "start_time": "2019-01-25T11:10:17.261593Z"
    }
   },
   "outputs": [
    {
     "name": "stdout",
     "output_type": "stream",
     "text": [
      "2373\n",
      "/data/data2/Nancy/WhiteBeam/Summed_img__004_0.tif\n",
      "2373\n",
      "/data/data2/Nancy/WhiteBeam/Summed_img__002_0.tif\n"
     ]
    }
   ],
   "source": [
    "for i in range(0, len(coll_dir)):\n",
    "    \n",
    "    #     path= rootpath+coll_dir[i]+'/Corrected/'\n",
    "    path= rootpath+coll_dir[i] +'/'\n",
    "    #     print(path)\n",
    "    #     coll = listdir(path) # this just lists everything   \n",
    "    summed_img = np.zeros([512,512], dtype='>f4')\n",
    "    current_dir = fnmatch.filter(listdir(path),'*.fits')\n",
    "    sorted_dir = sorted(current_dir)\n",
    "\n",
    "    print(len(sorted_dir))\n",
    "    myrange=[0,len(sorted_dir)] # here one has to select which range to use for the summing of the images\n",
    "\n",
    "\n",
    "    for x in range(myrange[0], myrange[1]):\n",
    "        name=path+sorted_dir[x]\n",
    "        #         print(name)\n",
    "        im = fits.open(name)\n",
    "        data=im[0].data\n",
    "        summed_img+= data\n",
    "\n",
    "\n",
    "    io.imsave(savepath+'Summed_img_'+current_dir[0][4:10]+'.tif', summed_img)\n",
    "    #     print(i)\n",
    "    print(savepath+'Summed_img_'+current_dir[0][4:10]+'.tif')\n",
    "\n",
    "\n"
   ]
  },
  {
   "cell_type": "code",
   "execution_count": null,
   "metadata": {
    "collapsed": true
   },
   "outputs": [],
   "source": []
  },
  {
   "cell_type": "code",
   "execution_count": null,
   "metadata": {
    "collapsed": true
   },
   "outputs": [],
   "source": []
  }
 ],
 "metadata": {
  "kernelspec": {
   "display_name": "Python 2",
   "language": "python",
   "name": "python2"
  },
  "language_info": {
   "codemirror_mode": {
    "name": "ipython",
    "version": 3
   },
   "file_extension": ".py",
   "mimetype": "text/x-python",
   "name": "python",
   "nbconvert_exporter": "python",
   "pygments_lexer": "ipython3",
   "version": "3.7.1"
  },
  "varInspector": {
   "cols": {
    "lenName": 16,
    "lenType": 16,
    "lenVar": 40
   },
   "kernels_config": {
    "python": {
     "delete_cmd_postfix": "",
     "delete_cmd_prefix": "del ",
     "library": "var_list.py",
     "varRefreshCmd": "print(var_dic_list())"
    },
    "r": {
     "delete_cmd_postfix": ") ",
     "delete_cmd_prefix": "rm(",
     "library": "var_list.r",
     "varRefreshCmd": "cat(var_dic_list()) "
    }
   },
   "position": {
    "height": "490px",
    "left": "1675.5px",
    "right": "-292.167px",
    "top": "441px",
    "width": "800px"
   },
   "types_to_exclude": [
    "module",
    "function",
    "builtin_function_or_method",
    "instance",
    "_Feature"
   ],
   "window_display": true
  }
 },
 "nbformat": 4,
 "nbformat_minor": 2
}
