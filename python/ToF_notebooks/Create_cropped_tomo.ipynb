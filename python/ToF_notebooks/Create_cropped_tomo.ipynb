{
 "cells": [
  {
   "cell_type": "code",
   "execution_count": 2,
   "metadata": {},
   "outputs": [],
   "source": [
    "import numpy as np\n",
    "from astropy.io import fits\n",
    "import os, fnmatch\n",
    "import matplotlib.pyplot as plt"
   ]
  },
  {
   "cell_type": "code",
   "execution_count": 3,
   "metadata": {},
   "outputs": [],
   "source": [
    "## Here I have all the folders that I need\n",
    "path_folders = \"D:/Kaestner/ISIS_IAEAData/RB1730044/PSI_Cylinder/Sample/RB1730044/Tomo_test/Sample/\"\n",
    "list_folders = sorted(fnmatch.filter(os.listdir(path_folders),'*_Corrected_Binned'))\n",
    "# print(list_folders)"
   ]
  },
  {
   "cell_type": "code",
   "execution_count": 4,
   "metadata": {},
   "outputs": [],
   "source": [
    "# Create a folder where I will put all the cropped files\n",
    "folder_output =  \"D:/Kaestner/ISIS_IAEAData/RB1730044/PSI_Cylinder/Sample/RB1730044/Tomo_test/Sample/Cropped_TOF_Tomo\"\n",
    "\n",
    "if not os.path.exists(folder_output):\n",
    "    os.makedirs(folder_output)"
   ]
  },
  {
   "cell_type": "code",
   "execution_count": null,
   "metadata": {
    "scrolled": true
   },
   "outputs": [
    {
     "name": "stdout",
     "output_type": "stream",
     "text": [
      "D:/Kaestner/ISIS_IAEAData/RB1730044/PSI_Cylinder/Sample/RB1730044/Tomo_test/Sample/angle0000_Corrected_Binned\n",
      "D:/Kaestner/ISIS_IAEAData/RB1730044/PSI_Cylinder/Sample/RB1730044/Tomo_test/Sample/angle0001_Corrected_Binned\n",
      "D:/Kaestner/ISIS_IAEAData/RB1730044/PSI_Cylinder/Sample/RB1730044/Tomo_test/Sample/angle0002_Corrected_Binned\n",
      "D:/Kaestner/ISIS_IAEAData/RB1730044/PSI_Cylinder/Sample/RB1730044/Tomo_test/Sample/angle0003_Corrected_Binned\n",
      "D:/Kaestner/ISIS_IAEAData/RB1730044/PSI_Cylinder/Sample/RB1730044/Tomo_test/Sample/angle0004_Corrected_Binned\n",
      "D:/Kaestner/ISIS_IAEAData/RB1730044/PSI_Cylinder/Sample/RB1730044/Tomo_test/Sample/angle0005_Corrected_Binned\n",
      "D:/Kaestner/ISIS_IAEAData/RB1730044/PSI_Cylinder/Sample/RB1730044/Tomo_test/Sample/angle0006_Corrected_Binned\n",
      "D:/Kaestner/ISIS_IAEAData/RB1730044/PSI_Cylinder/Sample/RB1730044/Tomo_test/Sample/angle0007_Corrected_Binned\n",
      "D:/Kaestner/ISIS_IAEAData/RB1730044/PSI_Cylinder/Sample/RB1730044/Tomo_test/Sample/angle0008_Corrected_Binned\n",
      "D:/Kaestner/ISIS_IAEAData/RB1730044/PSI_Cylinder/Sample/RB1730044/Tomo_test/Sample/angle0009_Corrected_Binned\n",
      "D:/Kaestner/ISIS_IAEAData/RB1730044/PSI_Cylinder/Sample/RB1730044/Tomo_test/Sample/angle0010_Corrected_Binned\n",
      "D:/Kaestner/ISIS_IAEAData/RB1730044/PSI_Cylinder/Sample/RB1730044/Tomo_test/Sample/angle0011_Corrected_Binned\n",
      "D:/Kaestner/ISIS_IAEAData/RB1730044/PSI_Cylinder/Sample/RB1730044/Tomo_test/Sample/angle0012_Corrected_Binned\n",
      "D:/Kaestner/ISIS_IAEAData/RB1730044/PSI_Cylinder/Sample/RB1730044/Tomo_test/Sample/angle0013_Corrected_Binned\n",
      "D:/Kaestner/ISIS_IAEAData/RB1730044/PSI_Cylinder/Sample/RB1730044/Tomo_test/Sample/angle0014_Corrected_Binned\n",
      "D:/Kaestner/ISIS_IAEAData/RB1730044/PSI_Cylinder/Sample/RB1730044/Tomo_test/Sample/angle0015_Corrected_Binned\n",
      "D:/Kaestner/ISIS_IAEAData/RB1730044/PSI_Cylinder/Sample/RB1730044/Tomo_test/Sample/angle0016_Corrected_Binned\n",
      "D:/Kaestner/ISIS_IAEAData/RB1730044/PSI_Cylinder/Sample/RB1730044/Tomo_test/Sample/angle0017_Corrected_Binned\n",
      "D:/Kaestner/ISIS_IAEAData/RB1730044/PSI_Cylinder/Sample/RB1730044/Tomo_test/Sample/angle0018_Corrected_Binned\n",
      "D:/Kaestner/ISIS_IAEAData/RB1730044/PSI_Cylinder/Sample/RB1730044/Tomo_test/Sample/angle0019_Corrected_Binned\n",
      "D:/Kaestner/ISIS_IAEAData/RB1730044/PSI_Cylinder/Sample/RB1730044/Tomo_test/Sample/angle0020_Corrected_Binned\n",
      "D:/Kaestner/ISIS_IAEAData/RB1730044/PSI_Cylinder/Sample/RB1730044/Tomo_test/Sample/angle0021_Corrected_Binned\n",
      "D:/Kaestner/ISIS_IAEAData/RB1730044/PSI_Cylinder/Sample/RB1730044/Tomo_test/Sample/angle0022_Corrected_Binned\n"
     ]
    }
   ],
   "source": [
    "# load, crop and resave\n",
    "# all in a loop for all images\n",
    "\n",
    "\n",
    "for i in range(0,len(list_folders)):\n",
    "    current_path = path_folders + list_folders[i]\n",
    "    print(current_path)\n",
    "    \n",
    "    list_images = sorted(fnmatch.filter(os.listdir(current_path),'*.fits'))\n",
    "    \n",
    "    current_outputpath = folder_output + \"/\" + list_folders[i]\n",
    "    \n",
    "    if not os.path.exists(current_outputpath):\n",
    "        os.makedirs(current_outputpath)\n",
    "    \n",
    "    for j in range(0,len(list_images)):\n",
    "        filename = current_path + '/' + list_images[j]\n",
    "        \n",
    "        \n",
    "        with fits.open(filename) as f:\n",
    "            array = (f[0].data) # load the image file, size is rows x columns (es. 512x512)\n",
    "            fits.writeto(current_outputpath+'/' + list_images[j], array[:,250:512])\n",
    "            \n",
    "                    \n",
    "    \n",
    "#     filename = path_folders + list_folders[0] + \"/IMAT_tomo_binned_00000.fits\"\n",
    "#     print(filename)\n",
    "#     file = fits.open(filename)\n",
    "#     image = file[0].data\n",
    "#     plt.figure()\n",
    "#     plt.imshow(image[:,:], cmap='gray', vmin= 0.0, vmax = 40.0)\n",
    "\n",
    "#     # plt.imshow(image[:,250:512])\n",
    "#     print(np.shape(image))\n",
    "\n",
    "#     print(np.shape(image[:,250:512])) ## seems correct \n",
    "\n",
    "#     fits.writeto(folder_output+'/mytest.fits', image[:,250:512])\n"
   ]
  },
  {
   "cell_type": "code",
   "execution_count": null,
   "metadata": {},
   "outputs": [],
   "source": [
    "# the same for the two OB\n",
    "\n",
    "path_folders = \"D:\\Kaestner\\ISIS_IAEAData\\RB1730015\\Tomo_test_RB1730044/\"\n",
    "list_folders = sorted(fnmatch.filter(os.listdir(path_folders),'*_Corrected_Binned'))\n",
    "\n",
    "for i in range(0,len(list_folders)):\n",
    "    current_path = path_folders + list_folders[i]\n",
    "    print(current_path)\n",
    "    \n",
    "    list_images = sorted(fnmatch.filter(os.listdir(current_path),'*.fits'))\n",
    "    \n",
    "    current_outputpath = folder_output + \"/\" + list_folders[i]\n",
    "    \n",
    "    if not os.path.exists(current_outputpath):\n",
    "        os.makedirs(current_outputpath)\n",
    "    \n",
    "    for j in range(0,len(list_images)):\n",
    "        filename = current_path + '/' + list_images[j]\n",
    "        \n",
    "        \n",
    "        with fits.open(filename) as f:\n",
    "            array = (f[0].data) # load the image file, size is rows x columns (es. 512x512)\n",
    "            fits.writeto(current_outputpath+'/' + list_images[j], array[:,250:512])\n",
    "            "
   ]
  },
  {
   "cell_type": "code",
   "execution_count": null,
   "metadata": {},
   "outputs": [],
   "source": []
  }
 ],
 "metadata": {
  "kernelspec": {
   "display_name": "Python 3",
   "language": "python",
   "name": "python3"
  },
  "language_info": {
   "codemirror_mode": {
    "name": "ipython",
    "version": 3
   },
   "file_extension": ".py",
   "mimetype": "text/x-python",
   "name": "python",
   "nbconvert_exporter": "python",
   "pygments_lexer": "ipython3",
   "version": "3.7.1"
  }
 },
 "nbformat": 4,
 "nbformat_minor": 2
}
