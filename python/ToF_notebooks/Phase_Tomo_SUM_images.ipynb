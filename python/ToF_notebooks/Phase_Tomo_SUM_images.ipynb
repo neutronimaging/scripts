{
 "cells": [
  {
   "cell_type": "markdown",
   "metadata": {},
   "source": [
    "# In this notebook I read and sum images to be used for phase tomography. "
   ]
  },
  {
   "cell_type": "markdown",
   "metadata": {},
   "source": [
    "## The noteboook was started to process data of the Fe sample imaged at RADEN"
   ]
  },
  {
   "cell_type": "code",
   "execution_count": 11,
   "metadata": {
    "ExecuteTime": {
     "end_time": "2018-10-12T18:20:51.419174Z",
     "start_time": "2018-10-12T18:20:51.414248Z"
    }
   },
   "outputs": [],
   "source": [
    "import skimage\n",
    "import os, fnmatch\n",
    "import numpy as np\n",
    "import matplotlib.pyplot as plt\n",
    "%matplotlib inline\n",
    "# %matplotlib notebook\n",
    "import pylab\n",
    "import scipy\n",
    "from skimage import io\n",
    "from os import listdir\n",
    "from astropy.io import fits"
   ]
  },
  {
   "cell_type": "code",
   "execution_count": 12,
   "metadata": {
    "ExecuteTime": {
     "end_time": "2018-10-12T18:20:51.432955Z",
     "start_time": "2018-10-12T18:20:51.420405Z"
    },
    "collapsed": true
   },
   "outputs": [],
   "source": [
    "## here you defined the ranges of images that will be used for the summing, with my calib:\n",
    "alpha=[497,524]\n",
    "gamma=[532,550]\n",
    "ref=[575,619]"
   ]
  },
  {
   "cell_type": "code",
   "execution_count": 13,
   "metadata": {
    "ExecuteTime": {
     "end_time": "2018-10-12T18:20:51.439883Z",
     "start_time": "2018-10-12T18:20:51.434218Z"
    },
    "collapsed": true
   },
   "outputs": [],
   "source": [
    "#without calib:\n",
    "# alpha=[521,550]\n",
    "# gamma=[561,579]\n",
    "# ref=[603,649]"
   ]
  },
  {
   "cell_type": "code",
   "execution_count": 14,
   "metadata": {
    "ExecuteTime": {
     "end_time": "2018-10-12T18:20:51.444814Z",
     "start_time": "2018-10-12T18:20:51.441333Z"
    }
   },
   "outputs": [],
   "source": [
    "savepath = '/data/data2/RADEN_Feb2018/07_TomoA_ARMCO/Summed_Phase_Img/'\n",
    "\n",
    "if not os.path.exists(savepath):\n",
    "    os.makedirs(savepath)\n",
    "    "
   ]
  },
  {
   "cell_type": "code",
   "execution_count": 17,
   "metadata": {
    "ExecuteTime": {
     "end_time": "2018-10-12T18:21:53.513926Z",
     "start_time": "2018-10-12T18:21:53.509706Z"
    }
   },
   "outputs": [
    {
     "name": "stdout",
     "output_type": "stream",
     "text": [
      "['TEST8_000', 'TEST8_001', 'TEST8_002', 'TEST8_003', 'TEST8_004', 'TEST8_005', 'TEST8_006', 'TEST8_007', 'TEST8_008', 'TEST8_009', 'TEST8_010', 'TEST8_011', 'TEST8_012', 'TEST8_013', 'TEST8_014', 'TEST8_015', 'TEST8_016', 'TEST8_017', 'TEST8_018', 'TEST8_019', 'TEST8_020', 'TEST8_021', 'TEST8_022', 'TEST8_023', 'TEST8_024', 'TEST8_025', 'TEST8_026', 'TEST8_027', 'TEST8_028', 'TEST8_029', 'TEST8_030', 'TEST8_031', 'TEST8_032', 'TEST8_033', 'TEST8_034', 'TEST8_035', 'TEST8_036', 'TEST8_037', 'TEST8_038', 'TEST8_039', 'TEST8_040', 'TEST8_041', 'TEST8_042', 'TEST8_043', 'TEST8_044', 'TEST8_045', 'TEST8_046', 'TEST8_047', 'TEST8_048', 'TEST8_049', 'TEST8_050', 'TEST8_051', 'TEST8_052', 'TEST8_053', 'TEST8_054', 'TEST8_055', 'TEST8_056', 'TEST8_057', 'TEST8_058', 'TEST8_059', 'TEST8_060', 'TEST8_061', 'TEST8_062', 'TEST8_063', 'TEST8_064', 'TEST8_065', 'TEST8_066', 'TEST8_067', 'TEST8_068', 'TEST8_069', 'TEST8_070', 'TEST8_071', 'TEST8_072', 'TEST8_073', 'TEST8_074', 'TEST8_075', 'TEST8_076', 'TEST8_077', 'TEST8_078', 'TEST8_079', 'TEST8_080', 'TEST8_081', 'TEST8_082', 'TEST8_083', 'TEST8_084', 'TEST8_085', 'TEST8_086', 'TEST8_087', 'TEST8_088', 'TEST8_089', 'TEST8_090', 'TEST8_091', 'TEST8_092', 'TEST8_093', 'TEST8_094', 'TEST8_095', 'TEST8_096', 'TEST8_097', 'TEST8_098', 'TEST8_099', 'TEST8_100', 'TEST8_101', 'TEST8_102', 'TEST8_103', 'TEST8_104', 'TEST8_105', 'TEST8_106', 'TEST8_107', 'TEST8_108', 'TEST8_109', 'TEST8_110', 'TEST8_111', 'TEST8_112', 'TEST8_113', 'TEST8_114', 'TEST8_115', 'TEST8_116', 'TEST8_117', 'TEST8_118', 'TEST8_119', 'TEST8_120', 'TEST8_121', 'TEST9_000', 'TEST9_001', 'TEST9_002']\n"
     ]
    }
   ],
   "source": [
    "mydir = fnmatch.filter(listdir('/data/data2/RADEN_Feb2018/07_TomoA_ARMCO/'),'TEST*')\n",
    "coll_dir = sorted(mydir)\n",
    "print(coll_dir)"
   ]
  },
  {
   "cell_type": "code",
   "execution_count": 21,
   "metadata": {
    "ExecuteTime": {
     "end_time": "2018-10-15T11:18:30.989638Z",
     "start_time": "2018-10-15T11:18:30.170078Z"
    }
   },
   "outputs": [
    {
     "name": "stdout",
     "output_type": "stream",
     "text": [
      "/data/data2/RADEN_Feb2018/07_TomoA_ARMCO/TEST9_002/Corrected/\n"
     ]
    }
   ],
   "source": [
    "for i in range(0, len(coll_dir)):\n",
    "    path= '/data/data2/RADEN_Feb2018/07_TomoA_ARMCO/'+coll_dir[i]+'/Corrected/'\n",
    "    print(path)\n",
    "    \n",
    "    current_dir = fnmatch.filter(listdir(path),'*.fits')\n",
    "    coll = sorted(current_dir)\n",
    "#     print(coll)\n",
    "\n",
    "    summed_alpha = np.zeros([512,512], dtype='>f4')\n",
    "    summed_ref = np.zeros([512,512], dtype='>f4') ## with data.dtype I checked what was the type of the read images\n",
    "    summed_gamma = np.zeros([512,512], dtype='>f4')\n",
    "    \n",
    "    for x in range(alpha[0], alpha[1]+1):\n",
    "        name=path+coll[x]\n",
    "        i = fits.open(name)\n",
    "        data = i[0].data\n",
    "        summed_alpha += data\n",
    "    \n",
    "    io.imsave(save_path+'summed_alpha'+coll[0][4:9]+'.tiff', summed_alpha)\n",
    "    \n",
    "    for x in range(gamma[0], gamma[1]+1):\n",
    "        name=path+coll[x]\n",
    "        i = fits.open(name)\n",
    "        data = i[0].data\n",
    "        summed_gamma += data\n",
    "    \n",
    "    io.imsave(save_path+'summed_gamma'+coll[0][4:9]+'.tiff', summed_gamma)\n",
    "    \n",
    "    for x in range(ref[0], ref[1]+1):\n",
    "        name=path+coll[x]\n",
    "        i = fits.open(name)\n",
    "        data = i[0].data\n",
    "        summed_ref += data\n",
    "    \n",
    "    io.imsave(save_path+'summed_ref'+coll[0][4:9]+'.tiff', summed_ref)\n",
    "   \n"
   ]
  },
  {
   "cell_type": "code",
   "execution_count": null,
   "metadata": {
    "collapsed": true
   },
   "outputs": [],
   "source": []
  }
 ],
 "metadata": {
  "kernelspec": {
   "display_name": "Python 2",
   "language": "python",
   "name": "python2"
  },
  "language_info": {
   "codemirror_mode": {
    "name": "ipython",
    "version": 2
   },
   "file_extension": ".py",
   "mimetype": "text/x-python",
   "name": "python",
   "nbconvert_exporter": "python",
   "pygments_lexer": "ipython2",
   "version": "2.7.14"
  },
  "varInspector": {
   "cols": {
    "lenName": 16,
    "lenType": 16,
    "lenVar": 40
   },
   "kernels_config": {
    "python": {
     "delete_cmd_postfix": "",
     "delete_cmd_prefix": "del ",
     "library": "var_list.py",
     "varRefreshCmd": "print(var_dic_list())"
    },
    "r": {
     "delete_cmd_postfix": ") ",
     "delete_cmd_prefix": "rm(",
     "library": "var_list.r",
     "varRefreshCmd": "cat(var_dic_list()) "
    }
   },
   "position": {
    "height": "843px",
    "left": "1745px",
    "right": "-159.167px",
    "top": "245px",
    "width": "800px"
   },
   "types_to_exclude": [
    "module",
    "function",
    "builtin_function_or_method",
    "instance",
    "_Feature"
   ],
   "window_display": true
  }
 },
 "nbformat": 4,
 "nbformat_minor": 2
}
