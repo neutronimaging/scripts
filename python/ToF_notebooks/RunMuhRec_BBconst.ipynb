{
 "cells": [
  {
   "cell_type": "code",
   "execution_count": 1,
   "metadata": {},
   "outputs": [
    {
     "name": "stdout",
     "output_type": "stream",
     "text": [
      "Wall time: 1.59 s\n"
     ]
    }
   ],
   "source": [
    "%%time\n",
    "\n",
    "import os\n",
    "import shutil\n",
    "from subprocess import call\n",
    "%matplotlib inline"
   ]
  },
  {
   "cell_type": "code",
   "execution_count": 2,
   "metadata": {
    "scrolled": false
   },
   "outputs": [
    {
     "name": "stdout",
     "output_type": "stream",
     "text": [
      "Running: ......  D:/Kaestner/ISIS_IAEAData/RB1730044/PSI_Cylinder/Sample/RB1730044/Tomo_test/CT_configurations_BBconst/ReconConfig_bin0084.xml\n",
      "Wall time: 51.7 s\n"
     ]
    }
   ],
   "source": [
    "%%time\n",
    "# Here I run MuhRec in a loop loading the different ReconConfig that I have created in the previous cell\n",
    "\n",
    "muhrec=r\"C:/Users/carminati_c/muhrec/muhrecCLI.exe\"\n",
    "cfgpath=r\"D:/Kaestner/ISIS_IAEAData/RB1730044/PSI_Cylinder/Sample/RB1730044/Tomo_test/CT_configurations_BBconst/ReconConfig_bin\"+str(0).zfill(4)+\".xml\"\n",
    "first_bin=0\n",
    "last_bin=165\n",
    "\n",
    "for i in range(first_bin, last_bin):\n",
    "    cfgpath=r\"D:/Kaestner/ISIS_IAEAData/RB1730044/PSI_Cylinder/Sample/RB1730044/Tomo_test/CT_configurations_BBconst/ReconConfig_bin\"+str(i).zfill(4)+\".xml\"\n",
    "    print('Running: ...... ', cfgpath)\n",
    "    call([muhrec, \"-f\", cfgpath]) # It does!\n",
    "\n"
   ]
  },
  {
   "cell_type": "code",
   "execution_count": null,
   "metadata": {},
   "outputs": [],
   "source": []
  }
 ],
 "metadata": {
  "kernelspec": {
   "display_name": "Python 3",
   "language": "python",
   "name": "python3"
  },
  "language_info": {
   "codemirror_mode": {
    "name": "ipython",
    "version": 3
   },
   "file_extension": ".py",
   "mimetype": "text/x-python",
   "name": "python",
   "nbconvert_exporter": "python",
   "pygments_lexer": "ipython3",
   "version": "3.7.1"
  }
 },
 "nbformat": 4,
 "nbformat_minor": 2
}
