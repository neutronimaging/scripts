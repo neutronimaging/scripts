{
 "cells": [
  {
   "cell_type": "markdown",
   "metadata": {},
   "source": [
    "# In this notebook I plot some spectra on ROI to analyse the IMAT experiment, I go on with the HorizontalSettings"
   ]
  },
  {
   "cell_type": "code",
   "execution_count": 13,
   "metadata": {
    "ExecuteTime": {
     "end_time": "2019-02-05T14:12:05.822871Z",
     "start_time": "2019-02-05T14:12:05.817887Z"
    },
    "collapsed": false
   },
   "outputs": [],
   "source": [
    "import numpy as np\n",
    "import matplotlib\n",
    "import matplotlib.pyplot as plt\n",
    "import pandas as pd\n",
    "from astropy.io import fits\n",
    "import os, fnmatch, glob\n",
    "from os import listdir\n",
    "#%matplotlib inline\n",
    "%matplotlib notebook\n",
    "import scipy.signal\n",
    "import matplotlib.patches as patches\n",
    "from skimage.filters import threshold_otsu\n"
   ]
  },
  {
   "cell_type": "code",
   "execution_count": 2,
   "metadata": {
    "ExecuteTime": {
     "end_time": "2019-02-05T11:00:14.895362Z",
     "start_time": "2019-02-05T11:00:14.892170Z"
    },
    "collapsed": true
   },
   "outputs": [],
   "source": [
    "# Constant values\n",
    "h=6.62607004e-34 #Planck constant [m^2 kg / s]\n",
    "m=1.674927471e-27 #Neutron mass [kg]\n",
    "# here now I put the number obtained from the flight\n",
    "-path calibration!\n",
    "t0 =  0.0002466\n",
    "L = 56.065\n",
    "# lambda0 = 0.017\n",
    "lambda0 = 0.0\n",
    "\n",
    "dL = 0"
   ]
  },
  {
   "cell_type": "code",
   "execution_count": 3,
   "metadata": {
    "ExecuteTime": {
     "end_time": "2019-02-05T11:00:15.117897Z",
     "start_time": "2019-02-05T11:00:15.113580Z"
    },
    "collapsed": true
   },
   "outputs": [],
   "source": [
    "def tof2l(tof):\n",
    "    l=lambda0+h/m*(tof-t0)/(L)/1e-10\n",
    "    return l\n",
    "\n",
    "def l2tof(l):\n",
    "    tof=t0+(l*1e-10)*(L)*m/h\n",
    "    return tof"
   ]
  },
  {
   "cell_type": "code",
   "execution_count": 9,
   "metadata": {
    "ExecuteTime": {
     "end_time": "2019-02-05T11:46:52.523029Z",
     "start_time": "2019-02-05T11:46:52.509495Z"
    },
    "collapsed": false
   },
   "outputs": [
    {
     "name": "stdout",
     "output_type": "stream",
     "text": [
      "['Sample_10090deg_Corrected', 'Sample_10099deg_Corrected', 'Sample_10108deg_Corrected', 'Sample_10126deg_Corrected', 'Sample_10144deg_Corrected', 'Sample_10153deg_Corrected', 'Sample_10162deg_Corrected', 'Sample_10171deg_Corrected', 'Sample_10180deg_Corrected']\n",
      "['Flat2_Corrected', 'Flat3_Corrected']\n",
      "['Sample_10090deg_Corrected', 'Sample_10099deg_Corrected', 'Sample_10108deg_Corrected', 'Sample_10126deg_Corrected', 'Sample_10135deg_Corrected', 'Sample_10144deg_Corrected', 'Sample_10162deg_Corrected', 'Sample_10180deg_Corrected']\n"
     ]
    }
   ],
   "source": [
    "rootpath_1 = '/data/data2/IMAT_Nov2018/04_HorizontalSetting_3hruns/1st_run/'\n",
    "rootpath_2 = '/data/data2/IMAT_Nov2018/04_HorizontalSetting_3hruns/2nd_run/'\n",
    "\n",
    "coll_dir_1 = sorted(fnmatch.filter(listdir(rootpath_1),'Sample*'))\n",
    "print(coll_dir_1)\n",
    "\n",
    "# pathdata= \"/data/data2/IMAT_Nov2018/03_VerticalSetting_3hruns/Sample_10090deg_Corrected/\"\n",
    "# pathdata_180= \"/data/data2/IMAT_Nov2018/03_VerticalSetting_3hruns/Sample_10180deg_Corrected/\"\n",
    "coll_OB = sorted(fnmatch.filter(listdir(rootpath_1), 'Flat*'))\n",
    "print(coll_OB)\n",
    "                 \n",
    "coll_dir_2 = sorted(fnmatch.filter(listdir(rootpath_2),'Sample*'))\n",
    "print(coll_dir_2)\n",
    "\n",
    "myTOF = np.genfromtxt('/data/data2/IMAT_Nov2018/04_HorizontalSetting_3hruns/1st_run/Flat2_Corrected/IMAT00010435_HorizontalSetting_3hruns_000_Spectra.txt', usecols=0)"
   ]
  },
  {
   "cell_type": "code",
   "execution_count": 10,
   "metadata": {
    "ExecuteTime": {
     "end_time": "2019-02-05T11:46:53.794515Z",
     "start_time": "2019-02-05T11:46:53.721889Z"
    },
    "collapsed": false
   },
   "outputs": [
    {
     "name": "stdout",
     "output_type": "stream",
     "text": [
      "/data/data2/IMAT_Nov2018/04_HorizontalSetting_3hruns/1st_run/Sample_10090deg_Corrected\n",
      "/data/data2/IMAT_Nov2018/04_HorizontalSetting_3hruns/1st_run/Sample_10099deg_Corrected\n",
      "/data/data2/IMAT_Nov2018/04_HorizontalSetting_3hruns/1st_run/Sample_10108deg_Corrected\n",
      "/data/data2/IMAT_Nov2018/04_HorizontalSetting_3hruns/1st_run/Sample_10126deg_Corrected\n",
      "/data/data2/IMAT_Nov2018/04_HorizontalSetting_3hruns/1st_run/Sample_10144deg_Corrected\n",
      "/data/data2/IMAT_Nov2018/04_HorizontalSetting_3hruns/1st_run/Sample_10153deg_Corrected\n",
      "/data/data2/IMAT_Nov2018/04_HorizontalSetting_3hruns/1st_run/Sample_10162deg_Corrected\n",
      "/data/data2/IMAT_Nov2018/04_HorizontalSetting_3hruns/1st_run/Sample_10171deg_Corrected\n",
      "/data/data2/IMAT_Nov2018/04_HorizontalSetting_3hruns/1st_run/Sample_10180deg_Corrected\n",
      "/data/data2/IMAT_Nov2018/04_HorizontalSetting_3hruns/2nd_run/Sample_10090deg_Corrected\n",
      "/data/data2/IMAT_Nov2018/04_HorizontalSetting_3hruns/2nd_run/Sample_10099deg_Corrected\n",
      "/data/data2/IMAT_Nov2018/04_HorizontalSetting_3hruns/2nd_run/Sample_10108deg_Corrected\n",
      "/data/data2/IMAT_Nov2018/04_HorizontalSetting_3hruns/2nd_run/Sample_10126deg_Corrected\n",
      "/data/data2/IMAT_Nov2018/04_HorizontalSetting_3hruns/2nd_run/Sample_10135deg_Corrected\n",
      "/data/data2/IMAT_Nov2018/04_HorizontalSetting_3hruns/2nd_run/Sample_10144deg_Corrected\n",
      "/data/data2/IMAT_Nov2018/04_HorizontalSetting_3hruns/2nd_run/Sample_10162deg_Corrected\n",
      "/data/data2/IMAT_Nov2018/04_HorizontalSetting_3hruns/2nd_run/Sample_10180deg_Corrected\n",
      "/data/data2/IMAT_Nov2018/04_HorizontalSetting_3hruns/1st_run/Flat2_Corrected\n",
      "/data/data2/IMAT_Nov2018/04_HorizontalSetting_3hruns/1st_run/Flat3_Corrected\n"
     ]
    }
   ],
   "source": [
    "#here I read all relevant filenames\n",
    "coll_files_1=[]\n",
    "for i in range(0, len(coll_dir_1)):\n",
    "# for i in range(0, 1):\n",
    "    pathdata = rootpath_1 + coll_dir_1[i]\n",
    "    print(pathdata)\n",
    "    coll_files_1.append(sorted(fnmatch.filter(listdir(pathdata),'*.fits')))\n",
    "\n",
    "coll_files_2=[]\n",
    "for i in range(0, len(coll_dir_2)):\n",
    "# for i in range(0, 1):\n",
    "    pathdata = rootpath_2 + coll_dir_2[i]\n",
    "    print(pathdata)\n",
    "    coll_files_2.append(sorted(fnmatch.filter(listdir(pathdata),'*.fits')))\n",
    "\n",
    "coll_files_ob=[]\n",
    "for i in range(0, len(coll_OB)):\n",
    "# for i in range(0, 1):\n",
    "    pathdata = rootpath_1 + coll_OB[i]\n",
    "    print(pathdata)\n",
    "    coll_files_ob.append(sorted(fnmatch.filter(listdir(pathdata),'*.fits')))\n",
    "    "
   ]
  },
  {
   "cell_type": "code",
   "execution_count": 27,
   "metadata": {
    "ExecuteTime": {
     "end_time": "2019-02-05T14:19:32.160492Z",
     "start_time": "2019-02-05T14:19:32.087138Z"
    },
    "collapsed": false
   },
   "outputs": [
    {
     "name": "stdout",
     "output_type": "stream",
     "text": [
      "(9, 1)\n",
      "[[ 107509.75]\n",
      " [  97279.75]\n",
      " [ 107359.75]\n",
      " [  99509.75]\n",
      " [  96749.75]\n",
      " [  99460.  ]\n",
      " [  98289.75]\n",
      " [ 107480.  ]\n",
      " [  95769.75]]\n"
     ]
    }
   ],
   "source": [
    "# Here I read all relevant shutter counts\n",
    "shutter_1 = np.zeros(shape=(len(coll_dir_1),1))\n",
    "print(np.shape(shutter_1))\n",
    "\n",
    "for i in range(0, len(coll_dir_1)):\n",
    "    sorted_TXT= sorted(glob.glob(rootpath_1+coll_dir_1[i]+'/*.txt'))\n",
    "    filename_shuttercount = sorted_TXT[0]\n",
    "    shuttervalues = np.genfromtxt(filename_shuttercount, usecols=1)\n",
    "    shutter_1[i]=np.sum(shuttervalues)/4\n",
    "\n",
    "print(shutter_1)\n",
    "    \n",
    "\n",
    "    "
   ]
  },
  {
   "cell_type": "code",
   "execution_count": null,
   "metadata": {
    "collapsed": true
   },
   "outputs": [],
   "source": []
  }
 ],
 "metadata": {
  "kernelspec": {
   "display_name": "Python 2",
   "language": "python",
   "name": "python2"
  },
  "language_info": {
   "codemirror_mode": {
    "name": "ipython",
    "version": 2
   },
   "file_extension": ".py",
   "mimetype": "text/x-python",
   "name": "python",
   "nbconvert_exporter": "python",
   "pygments_lexer": "ipython2",
   "version": "2.7.12"
  },
  "varInspector": {
   "cols": {
    "lenName": 16,
    "lenType": 16,
    "lenVar": 40
   },
   "kernels_config": {
    "python": {
     "delete_cmd_postfix": "",
     "delete_cmd_prefix": "del ",
     "library": "var_list.py",
     "varRefreshCmd": "print(var_dic_list())"
    },
    "r": {
     "delete_cmd_postfix": ") ",
     "delete_cmd_prefix": "rm(",
     "library": "var_list.r",
     "varRefreshCmd": "cat(var_dic_list()) "
    }
   },
   "types_to_exclude": [
    "module",
    "function",
    "builtin_function_or_method",
    "instance",
    "_Feature"
   ],
   "window_display": false
  }
 },
 "nbformat": 4,
 "nbformat_minor": 2
}
